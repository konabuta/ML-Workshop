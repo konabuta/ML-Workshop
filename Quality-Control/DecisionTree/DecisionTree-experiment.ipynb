{
 "cells": [
  {
   "cell_type": "markdown",
   "metadata": {},
   "source": [
    "# 決定木 Decision Tree による要因探索とメトリック記録"
   ]
  },
  {
   "cell_type": "markdown",
   "metadata": {},
   "source": [
    "製造工程データに決定木を適用し、説明変数・因子がどのように製造品の良品・不良品に影響しているかを分析します。最初は普通のScikit Learnを使用し決定木で学習します。Azure Machine Learning service のメトリック記録機能を使って、作業内容を記録することも示します。"
   ]
  },
  {
   "cell_type": "markdown",
   "metadata": {},
   "source": [
    "## Azure Machine Learning service\n",
    "Azure Machine Learning service の資産管理の仕組みを利用して、メトリック、データセット、モデルを保存します。\n",
    "### Python SDK インポート"
   ]
  },
  {
   "cell_type": "code",
   "execution_count": 1,
   "metadata": {},
   "outputs": [],
   "source": [
    "import azureml.core\n",
    "from azureml.core.experiment import Experiment\n",
    "from azureml.core.workspace import Workspace"
   ]
  },
  {
   "cell_type": "code",
   "execution_count": 2,
   "metadata": {},
   "outputs": [
    {
     "name": "stdout",
     "output_type": "stream",
     "text": [
      "Azure ML SDK Version:  1.0.55\n"
     ]
    }
   ],
   "source": [
    "print(\"Azure ML SDK Version: \", azureml.core.VERSION)"
   ]
  },
  {
   "cell_type": "markdown",
   "metadata": {},
   "source": [
    "### ワークスペースへの接続"
   ]
  },
  {
   "cell_type": "code",
   "execution_count": 3,
   "metadata": {},
   "outputs": [
    {
     "name": "stdout",
     "output_type": "stream",
     "text": [
      "azureml\tjapaneast\tazureml-ja\tjapaneast\n"
     ]
    }
   ],
   "source": [
    "ws = Workspace.from_config()\n",
    "print(ws.name, ws.location, ws.resource_group, ws.location, sep = '\\t')"
   ]
  },
  {
   "cell_type": "markdown",
   "metadata": {},
   "source": [
    "### 実験の開始"
   ]
  },
  {
   "cell_type": "code",
   "execution_count": 4,
   "metadata": {},
   "outputs": [],
   "source": [
    "experiment=Experiment(ws, \"decisiontree-explore\")\n",
    "run = experiment.start_logging()"
   ]
  },
  {
   "cell_type": "markdown",
   "metadata": {},
   "source": [
    "# 学習データの準備"
   ]
  },
  {
   "cell_type": "code",
   "execution_count": 5,
   "metadata": {},
   "outputs": [],
   "source": [
    "import pandas as pd\n",
    "import os\n",
    "\n",
    "df = pd.read_csv(\"./data/Factory.csv\")"
   ]
  },
  {
   "cell_type": "code",
   "execution_count": 6,
   "metadata": {},
   "outputs": [
    {
     "data": {
      "text/html": [
       "<div>\n",
       "<style scoped>\n",
       "    .dataframe tbody tr th:only-of-type {\n",
       "        vertical-align: middle;\n",
       "    }\n",
       "\n",
       "    .dataframe tbody tr th {\n",
       "        vertical-align: top;\n",
       "    }\n",
       "\n",
       "    .dataframe thead th {\n",
       "        text-align: right;\n",
       "    }\n",
       "</style>\n",
       "<table border=\"1\" class=\"dataframe\">\n",
       "  <thead>\n",
       "    <tr style=\"text-align: right;\">\n",
       "      <th></th>\n",
       "      <th>ID</th>\n",
       "      <th>Quality</th>\n",
       "      <th>ProcessA-Pressure</th>\n",
       "      <th>ProcessA-Humidity</th>\n",
       "      <th>ProcessA-Vibration</th>\n",
       "      <th>ProcessB-Light</th>\n",
       "      <th>ProcessB-Skill</th>\n",
       "      <th>ProcessB-Temp</th>\n",
       "      <th>ProcessB-Rotation</th>\n",
       "      <th>ProcessC-Density</th>\n",
       "      <th>ProcessC-PH</th>\n",
       "      <th>ProcessC-skewness</th>\n",
       "      <th>ProcessC-Time</th>\n",
       "    </tr>\n",
       "  </thead>\n",
       "  <tbody>\n",
       "    <tr>\n",
       "      <th>0</th>\n",
       "      <td>1</td>\n",
       "      <td>0</td>\n",
       "      <td>7.0</td>\n",
       "      <td>0.27</td>\n",
       "      <td>0.36</td>\n",
       "      <td>20.7</td>\n",
       "      <td>0.045</td>\n",
       "      <td>45.0</td>\n",
       "      <td>170.0</td>\n",
       "      <td>1.0010</td>\n",
       "      <td>3.00</td>\n",
       "      <td>0.45</td>\n",
       "      <td>8.8</td>\n",
       "    </tr>\n",
       "    <tr>\n",
       "      <th>1</th>\n",
       "      <td>2</td>\n",
       "      <td>0</td>\n",
       "      <td>6.3</td>\n",
       "      <td>0.30</td>\n",
       "      <td>0.34</td>\n",
       "      <td>1.6</td>\n",
       "      <td>0.049</td>\n",
       "      <td>14.0</td>\n",
       "      <td>132.0</td>\n",
       "      <td>0.9940</td>\n",
       "      <td>3.30</td>\n",
       "      <td>0.49</td>\n",
       "      <td>9.5</td>\n",
       "    </tr>\n",
       "    <tr>\n",
       "      <th>2</th>\n",
       "      <td>3</td>\n",
       "      <td>0</td>\n",
       "      <td>8.1</td>\n",
       "      <td>0.28</td>\n",
       "      <td>0.40</td>\n",
       "      <td>6.9</td>\n",
       "      <td>0.050</td>\n",
       "      <td>30.0</td>\n",
       "      <td>97.0</td>\n",
       "      <td>0.9951</td>\n",
       "      <td>3.26</td>\n",
       "      <td>0.44</td>\n",
       "      <td>10.1</td>\n",
       "    </tr>\n",
       "    <tr>\n",
       "      <th>3</th>\n",
       "      <td>4</td>\n",
       "      <td>0</td>\n",
       "      <td>7.2</td>\n",
       "      <td>0.23</td>\n",
       "      <td>0.32</td>\n",
       "      <td>8.5</td>\n",
       "      <td>0.058</td>\n",
       "      <td>47.0</td>\n",
       "      <td>186.0</td>\n",
       "      <td>0.9956</td>\n",
       "      <td>3.19</td>\n",
       "      <td>0.40</td>\n",
       "      <td>9.9</td>\n",
       "    </tr>\n",
       "    <tr>\n",
       "      <th>4</th>\n",
       "      <td>5</td>\n",
       "      <td>0</td>\n",
       "      <td>7.2</td>\n",
       "      <td>0.23</td>\n",
       "      <td>0.32</td>\n",
       "      <td>8.5</td>\n",
       "      <td>0.058</td>\n",
       "      <td>47.0</td>\n",
       "      <td>186.0</td>\n",
       "      <td>0.9956</td>\n",
       "      <td>3.19</td>\n",
       "      <td>0.40</td>\n",
       "      <td>9.9</td>\n",
       "    </tr>\n",
       "    <tr>\n",
       "      <th>5</th>\n",
       "      <td>6</td>\n",
       "      <td>0</td>\n",
       "      <td>8.1</td>\n",
       "      <td>0.28</td>\n",
       "      <td>0.40</td>\n",
       "      <td>6.9</td>\n",
       "      <td>0.050</td>\n",
       "      <td>30.0</td>\n",
       "      <td>97.0</td>\n",
       "      <td>0.9951</td>\n",
       "      <td>3.26</td>\n",
       "      <td>0.44</td>\n",
       "      <td>10.1</td>\n",
       "    </tr>\n",
       "    <tr>\n",
       "      <th>6</th>\n",
       "      <td>7</td>\n",
       "      <td>0</td>\n",
       "      <td>6.2</td>\n",
       "      <td>0.32</td>\n",
       "      <td>0.16</td>\n",
       "      <td>7.0</td>\n",
       "      <td>0.045</td>\n",
       "      <td>30.0</td>\n",
       "      <td>136.0</td>\n",
       "      <td>0.9949</td>\n",
       "      <td>3.18</td>\n",
       "      <td>0.47</td>\n",
       "      <td>9.6</td>\n",
       "    </tr>\n",
       "    <tr>\n",
       "      <th>7</th>\n",
       "      <td>8</td>\n",
       "      <td>0</td>\n",
       "      <td>7.0</td>\n",
       "      <td>0.27</td>\n",
       "      <td>0.36</td>\n",
       "      <td>20.7</td>\n",
       "      <td>0.045</td>\n",
       "      <td>45.0</td>\n",
       "      <td>170.0</td>\n",
       "      <td>1.0010</td>\n",
       "      <td>3.00</td>\n",
       "      <td>0.45</td>\n",
       "      <td>8.8</td>\n",
       "    </tr>\n",
       "    <tr>\n",
       "      <th>8</th>\n",
       "      <td>9</td>\n",
       "      <td>0</td>\n",
       "      <td>6.3</td>\n",
       "      <td>0.30</td>\n",
       "      <td>0.34</td>\n",
       "      <td>1.6</td>\n",
       "      <td>0.049</td>\n",
       "      <td>14.0</td>\n",
       "      <td>132.0</td>\n",
       "      <td>0.9940</td>\n",
       "      <td>3.30</td>\n",
       "      <td>0.49</td>\n",
       "      <td>9.5</td>\n",
       "    </tr>\n",
       "    <tr>\n",
       "      <th>9</th>\n",
       "      <td>10</td>\n",
       "      <td>0</td>\n",
       "      <td>8.1</td>\n",
       "      <td>0.22</td>\n",
       "      <td>0.43</td>\n",
       "      <td>1.5</td>\n",
       "      <td>0.044</td>\n",
       "      <td>28.0</td>\n",
       "      <td>129.0</td>\n",
       "      <td>0.9938</td>\n",
       "      <td>3.22</td>\n",
       "      <td>0.45</td>\n",
       "      <td>11.0</td>\n",
       "    </tr>\n",
       "  </tbody>\n",
       "</table>\n",
       "</div>"
      ],
      "text/plain": [
       "   ID  Quality  ProcessA-Pressure  ProcessA-Humidity  ProcessA-Vibration  \\\n",
       "0   1        0                7.0               0.27                0.36   \n",
       "1   2        0                6.3               0.30                0.34   \n",
       "2   3        0                8.1               0.28                0.40   \n",
       "3   4        0                7.2               0.23                0.32   \n",
       "4   5        0                7.2               0.23                0.32   \n",
       "5   6        0                8.1               0.28                0.40   \n",
       "6   7        0                6.2               0.32                0.16   \n",
       "7   8        0                7.0               0.27                0.36   \n",
       "8   9        0                6.3               0.30                0.34   \n",
       "9  10        0                8.1               0.22                0.43   \n",
       "\n",
       "   ProcessB-Light  ProcessB-Skill  ProcessB-Temp  ProcessB-Rotation  \\\n",
       "0            20.7           0.045           45.0              170.0   \n",
       "1             1.6           0.049           14.0              132.0   \n",
       "2             6.9           0.050           30.0               97.0   \n",
       "3             8.5           0.058           47.0              186.0   \n",
       "4             8.5           0.058           47.0              186.0   \n",
       "5             6.9           0.050           30.0               97.0   \n",
       "6             7.0           0.045           30.0              136.0   \n",
       "7            20.7           0.045           45.0              170.0   \n",
       "8             1.6           0.049           14.0              132.0   \n",
       "9             1.5           0.044           28.0              129.0   \n",
       "\n",
       "   ProcessC-Density  ProcessC-PH  ProcessC-skewness  ProcessC-Time  \n",
       "0            1.0010         3.00               0.45            8.8  \n",
       "1            0.9940         3.30               0.49            9.5  \n",
       "2            0.9951         3.26               0.44           10.1  \n",
       "3            0.9956         3.19               0.40            9.9  \n",
       "4            0.9956         3.19               0.40            9.9  \n",
       "5            0.9951         3.26               0.44           10.1  \n",
       "6            0.9949         3.18               0.47            9.6  \n",
       "7            1.0010         3.00               0.45            8.8  \n",
       "8            0.9940         3.30               0.49            9.5  \n",
       "9            0.9938         3.22               0.45           11.0  "
      ]
     },
     "execution_count": 6,
     "metadata": {},
     "output_type": "execute_result"
    }
   ],
   "source": [
    "df.head(10)"
   ]
  },
  {
   "cell_type": "code",
   "execution_count": 7,
   "metadata": {},
   "outputs": [],
   "source": [
    "from sklearn.model_selection import train_test_split\n",
    "\n",
    "X = df.drop([\"Quality\",\"ID\"],axis=1)\n",
    "y = df[\"Quality\"].values\n",
    "\n",
    "# 学習データとテストデータに分割\n",
    "X_train, X_test, y_train, y_test = train_test_split(X,y,test_size=0.1,random_state=100,stratify=y)"
   ]
  },
  {
   "cell_type": "markdown",
   "metadata": {},
   "source": [
    "# 決定木 Decision Tree による学習\n",
    "[Scikit-Learn Decision Tree](https://scikit-learn.org/stable/modules/tree.html) による機械学習モデリング"
   ]
  },
  {
   "cell_type": "code",
   "execution_count": 23,
   "metadata": {},
   "outputs": [],
   "source": [
    "from sklearn import tree\n",
    "\n",
    "criterion='gini'\n",
    "max_depth=4\n",
    "clf = tree.DecisionTreeClassifier(max_depth=max_depth, criterion=criterion)\n",
    "clf = clf.fit(X_train, y_train)"
   ]
  },
  {
   "cell_type": "code",
   "execution_count": 24,
   "metadata": {},
   "outputs": [
    {
     "name": "stdout",
     "output_type": "stream",
     "text": [
      "AUC 0.6406741352201257\n",
      "正解率 0.8061224489795918\n"
     ]
    }
   ],
   "source": [
    "from sklearn.metrics import (roc_curve, auc, accuracy_score)\n",
    "\n",
    "pred = clf.predict(X_test)\n",
    "fpr, tpr, thresholds = roc_curve(y_test, pred, pos_label=1)\n",
    "print(\"AUC\", auc(fpr, tpr))\n",
    "print(\"正解率\", accuracy_score(pred, y_test))"
   ]
  },
  {
   "cell_type": "code",
   "execution_count": 31,
   "metadata": {},
   "outputs": [
    {
     "data": {
      "text/plain": [
       "<Figure size 432x288 with 0 Axes>"
      ]
     },
     "metadata": {},
     "output_type": "display_data"
    },
    {
     "data": {
      "image/png": "[encoded data removed]",
      "text/plain": [
       "<Figure size 432x432 with 1 Axes>"
      ]
     },
     "metadata": {
      "needs_background": "light"
     },
     "output_type": "display_data"
    }
   ],
   "source": [
    "%matplotlib inline\n",
    "\n",
    "import matplotlib.pyplot as plt\n",
    "\n",
    "plt.clf()\n",
    "plt.figure(figsize=(6,6))\n",
    "plt.plot(fpr, tpr,label='ROC curve (area = %.2f)'%auc(fpr, tpr))\n",
    "plt.title(\"ROC curve\")\n",
    "plt.xlabel(\"False Positive Rate\")\n",
    "plt.ylabel(\"True Positive Rate\")\n",
    "plt.legend()\n",
    "plt.grid(True)\n",
    "plt.show()"
   ]
  },
  {
   "cell_type": "code",
   "execution_count": 33,
   "metadata": {},
   "outputs": [],
   "source": [
    "# 決定木の可視化　-作業中-"
   ]
  },
  {
   "cell_type": "markdown",
   "metadata": {},
   "source": [
    "## メトリックの記録"
   ]
  },
  {
   "cell_type": "code",
   "execution_count": 34,
   "metadata": {},
   "outputs": [],
   "source": [
    "# パラメータ\n",
    "run.log(\"木の分割基準\", criterion)\n",
    "run.log(\"木の深さ\", max_depth)\n",
    "\n",
    "# 精度\n",
    "run.log(\"AUC\", auc(fpr, tpr))\n",
    "run.log(\"正解率\", accuracy_score(pred, y_test))\n",
    "run.log_image(\"ROC\", \"ROC.png\")"
   ]
  },
  {
   "cell_type": "markdown",
   "metadata": {},
   "source": [
    "### モデル登録"
   ]
  },
  {
   "cell_type": "code",
   "execution_count": 35,
   "metadata": {},
   "outputs": [],
   "source": [
    "import pickle\n",
    "filename = 'DT-model.pkl'\n",
    "pickle.dump(clf, open(filename, 'wb'))"
   ]
  },
  {
   "cell_type": "code",
   "execution_count": 36,
   "metadata": {},
   "outputs": [
    {
     "data": {
      "text/plain": [
       "<azureml._restclient.models.batch_artifact_content_information_dto.BatchArtifactContentInformationDto at 0x10492ae80>"
      ]
     },
     "execution_count": 36,
     "metadata": {},
     "output_type": "execute_result"
    }
   ],
   "source": [
    "run.upload_file(\"outputs/\"+filename, filename)"
   ]
  },
  {
   "cell_type": "markdown",
   "metadata": {},
   "source": [
    "# モデル登録"
   ]
  },
  {
   "cell_type": "code",
   "execution_count": 37,
   "metadata": {},
   "outputs": [],
   "source": [
    "from azureml.core.model import Model\n",
    "\n",
    "model = run.register_model(model_name='DT-sklearn', \n",
    "                           model_path = 'outputs/' + filename,\n",
    "                           tags = {'area': \"sklearnによる決定木\", 'type': \"分類 Classification\", 'run_id' : run.id}\n",
    "                          )"
   ]
  },
  {
   "cell_type": "code",
   "execution_count": 38,
   "metadata": {},
   "outputs": [
    {
     "name": "stdout",
     "output_type": "stream",
     "text": [
      "DT-sklearn 1 {'area': 'sklearnによる決定木', 'type': '分類 Classification', 'run_id': '9bfd6930-3a50-423f-b2ba-f27b6d3b84ef'}\n"
     ]
    }
   ],
   "source": [
    "print(model.name, model.version, model.tags)"
   ]
  },
  {
   "cell_type": "markdown",
   "metadata": {},
   "source": [
    "## 実験完了"
   ]
  },
  {
   "cell_type": "code",
   "execution_count": 39,
   "metadata": {},
   "outputs": [],
   "source": [
    "run.complete()"
   ]
  },
  {
   "cell_type": "code",
   "execution_count": 40,
   "metadata": {},
   "outputs": [
    {
     "data": {
      "text/plain": [
       "{'runId': '9bfd6930-3a50-423f-b2ba-f27b6d3b84ef',\n",
       " 'target': 'sdk',\n",
       " 'status': 'Completed',\n",
       " 'startTimeUtc': '2019-08-06T05:51:45.893539Z',\n",
       " 'endTimeUtc': '2019-08-06T06:03:28.356691Z',\n",
       " 'properties': {'azureml.git.repository_uri': 'https://github.com/konabuta/ML-Workshop.git',\n",
       "  'mlflow.source.git.repoURL': 'https://github.com/konabuta/ML-Workshop.git',\n",
       "  'azureml.git.branch': 'master',\n",
       "  'mlflow.source.git.branch': 'master',\n",
       "  'azureml.git.commit': 'dbef791b5346102bb0d6fecdf9072dea2726e725',\n",
       "  'mlflow.source.git.commit': 'dbef791b5346102bb0d6fecdf9072dea2726e725',\n",
       "  'azureml.git.dirty': 'True',\n",
       "  'ContentSnapshotId': 'ef883128-2de3-4e4d-897e-c81ee478137f'},\n",
       " 'logFiles': {}}"
      ]
     },
     "execution_count": 40,
     "metadata": {},
     "output_type": "execute_result"
    }
   ],
   "source": [
    "run.get_details()"
   ]
  },
  {
   "cell_type": "code",
   "execution_count": 41,
   "metadata": {},
   "outputs": [
    {
     "data": {
      "text/html": [
       "<table style=\"width:100%\"><tr><th>Experiment</th><th>Id</th><th>Type</th><th>Status</th><th>Details Page</th><th>Docs Page</th></tr><tr><td>decisiontree-explore</td><td>9bfd6930-3a50-423f-b2ba-f27b6d3b84ef</td><td></td><td>Completed</td><td><a href=\"https://mlworkspace.azure.ai/portal/subscriptions/9c0f91b8-eb2f-484c-979c-15848c098a6b/resourceGroups/azureml-ja/providers/Microsoft.MachineLearningServices/workspaces/azureml/experiments/decisiontree-explore/runs/9bfd6930-3a50-423f-b2ba-f27b6d3b84ef\" target=\"_blank\" rel=\"noopener\">Link to Azure Portal</a></td><td><a href=\"https://docs.microsoft.com/en-us/python/api/azureml-core/azureml.core.run.Run?view=azure-ml-py\" target=\"_blank\" rel=\"noopener\">Link to Documentation</a></td></tr></table>"
      ],
      "text/plain": [
       "Run(Experiment: decisiontree-explore,\n",
       "Id: 9bfd6930-3a50-423f-b2ba-f27b6d3b84ef,\n",
       "Type: None,\n",
       "Status: Completed)"
      ]
     },
     "execution_count": 41,
     "metadata": {},
     "output_type": "execute_result"
    }
   ],
   "source": [
    "run"
   ]
  },
  {
   "cell_type": "code",
   "execution_count": null,
   "metadata": {},
   "outputs": [],
   "source": []
  }
 ],
 "metadata": {
  "kernelspec": {
   "display_name": "Python 3",
   "language": "python",
   "name": "python3"
  },
  "language_info": {
   "codemirror_mode": {
    "name": "ipython",
    "version": 3
   },
   "file_extension": ".py",
   "mimetype": "text/x-python",
   "name": "python",
   "nbconvert_exporter": "python",
   "pygments_lexer": "ipython3",
   "version": "3.6.8"
  }
 },
 "nbformat": 4,
 "nbformat_minor": 2
}
