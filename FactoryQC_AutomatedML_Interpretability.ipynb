{
 "cells": [
  {
   "cell_type": "markdown",
   "metadata": {
    "collapsed": true
   },
   "source": [
    "# Azure Machine Learning Interpretability SDK による要因探索"
   ]
  },
  {
   "cell_type": "markdown",
   "metadata": {},
   "source": [
    "品質を予測する機械学習モデルによって製造工程のデータから製造品の品質を予測することが可能になります。それだけでなく、モデルの構造を理解することで、不良に影響を与える説明変数・因子を特定し、不良の原因を見つける手助けができます。本Notebookでは、**Factory.csv** を利用し、製造工程のデータから品質を予測する機械学習を構築し、**Azure Machine Learning Interpretability SDK** の、品質に対する因子の影響度を分析します。"
   ]
  },
  {
   "cell_type": "markdown",
   "metadata": {},
   "source": [
    "## 1. Python SDK のインポート\n",
    "Azure Machine Learning service の Python SDKをインポートします。"
   ]
  },
  {
   "cell_type": "code",
   "execution_count": 1,
   "metadata": {},
   "outputs": [
    {
     "name": "stderr",
     "output_type": "stream",
     "text": [
      "WARNING: Logging before flag parsing goes to stderr.\n",
      "W0723 10:31:16.210340 139779322103552 deprecation_wrapper.py:119] From /anaconda/envs/py36/lib/python3.6/site-packages/azureml/automl/core/_vendor/automl/client/core/common/tf_wrappers.py:36: The name tf.logging.set_verbosity is deprecated. Please use tf.compat.v1.logging.set_verbosity instead.\n",
      "\n",
      "W0723 10:31:16.211839 139779322103552 deprecation_wrapper.py:119] From /anaconda/envs/py36/lib/python3.6/site-packages/azureml/automl/core/_vendor/automl/client/core/common/tf_wrappers.py:36: The name tf.logging.ERROR is deprecated. Please use tf.compat.v1.logging.ERROR instead.\n",
      "\n"
     ]
    }
   ],
   "source": [
    "import azureml.core\n",
    "from azureml.core.experiment import Experiment\n",
    "from azureml.core.workspace import Workspace\n",
    "from azureml.train.automl import AutoMLConfig\n",
    "from azureml.train.automl.run import AutoMLRun\n",
    "import os"
   ]
  },
  {
   "cell_type": "code",
   "execution_count": 2,
   "metadata": {},
   "outputs": [
    {
     "name": "stdout",
     "output_type": "stream",
     "text": [
      "Azure ML SDK Version:  1.0.48\n"
     ]
    }
   ],
   "source": [
    "print(\"Azure ML SDK Version: \", azureml.core.VERSION)"
   ]
  },
  {
   "cell_type": "markdown",
   "metadata": {},
   "source": [
    "### Azure ML workspace との接続\n",
    "Azure Machine Learning service との接続を行います。Azure に対する認証が必要です。"
   ]
  },
  {
   "cell_type": "code",
   "execution_count": 3,
   "metadata": {},
   "outputs": [
    {
     "name": "stdout",
     "output_type": "stream",
     "text": [
      "azureml\tjapaneast\ttest\tjapaneast\n"
     ]
    }
   ],
   "source": [
    "ws = Workspace.from_config()\n",
    "print(ws.name, ws.location, ws.resource_group, ws.location, sep = '\\t')"
   ]
  },
  {
   "cell_type": "markdown",
   "metadata": {},
   "source": [
    "### 実験名の設定"
   ]
  },
  {
   "cell_type": "code",
   "execution_count": 4,
   "metadata": {},
   "outputs": [],
   "source": [
    "experiment=Experiment(ws, \"automlQC_explain\")"
   ]
  },
  {
   "cell_type": "markdown",
   "metadata": {},
   "source": [
    "# 2. 学習データの準備"
   ]
  },
  {
   "cell_type": "code",
   "execution_count": 5,
   "metadata": {},
   "outputs": [],
   "source": [
    "import pandas as pd\n",
    "#os.makedirs(\"./outputs\", exist_ok=True)\n",
    "df = pd.read_csv('Factory.csv')"
   ]
  },
  {
   "cell_type": "code",
   "execution_count": 6,
   "metadata": {},
   "outputs": [
    {
     "data": {
      "text/html": [
       "<div>\n",
       "<style scoped>\n",
       "    .dataframe tbody tr th:only-of-type {\n",
       "        vertical-align: middle;\n",
       "    }\n",
       "\n",
       "    .dataframe tbody tr th {\n",
       "        vertical-align: top;\n",
       "    }\n",
       "\n",
       "    .dataframe thead th {\n",
       "        text-align: right;\n",
       "    }\n",
       "</style>\n",
       "<table border=\"1\" class=\"dataframe\">\n",
       "  <thead>\n",
       "    <tr style=\"text-align: right;\">\n",
       "      <th></th>\n",
       "      <th>ID</th>\n",
       "      <th>Quality</th>\n",
       "      <th>ProcessA-Pressure</th>\n",
       "      <th>ProcessA-Humidity</th>\n",
       "      <th>ProcessA-Vibration</th>\n",
       "      <th>ProcessB-Light</th>\n",
       "      <th>ProcessB-Skill</th>\n",
       "      <th>ProcessB-Temp</th>\n",
       "      <th>ProcessB-Rotation</th>\n",
       "      <th>ProcessC-Density</th>\n",
       "      <th>ProcessC-PH</th>\n",
       "      <th>ProcessC-skewness</th>\n",
       "      <th>ProcessC-Time</th>\n",
       "    </tr>\n",
       "  </thead>\n",
       "  <tbody>\n",
       "    <tr>\n",
       "      <th>4888</th>\n",
       "      <td>4889</td>\n",
       "      <td>0</td>\n",
       "      <td>6.80</td>\n",
       "      <td>0.22</td>\n",
       "      <td>0.36</td>\n",
       "      <td>1.20</td>\n",
       "      <td>0.05</td>\n",
       "      <td>38.00</td>\n",
       "      <td>127.00</td>\n",
       "      <td>0.99</td>\n",
       "      <td>3.04</td>\n",
       "      <td>0.54</td>\n",
       "      <td>9.20</td>\n",
       "    </tr>\n",
       "    <tr>\n",
       "      <th>4889</th>\n",
       "      <td>4890</td>\n",
       "      <td>0</td>\n",
       "      <td>4.90</td>\n",
       "      <td>0.23</td>\n",
       "      <td>0.27</td>\n",
       "      <td>11.75</td>\n",
       "      <td>0.03</td>\n",
       "      <td>34.00</td>\n",
       "      <td>118.00</td>\n",
       "      <td>1.00</td>\n",
       "      <td>3.07</td>\n",
       "      <td>0.50</td>\n",
       "      <td>9.40</td>\n",
       "    </tr>\n",
       "    <tr>\n",
       "      <th>4890</th>\n",
       "      <td>4891</td>\n",
       "      <td>0</td>\n",
       "      <td>6.10</td>\n",
       "      <td>0.34</td>\n",
       "      <td>0.29</td>\n",
       "      <td>2.20</td>\n",
       "      <td>0.04</td>\n",
       "      <td>25.00</td>\n",
       "      <td>100.00</td>\n",
       "      <td>0.99</td>\n",
       "      <td>3.06</td>\n",
       "      <td>0.44</td>\n",
       "      <td>11.80</td>\n",
       "    </tr>\n",
       "    <tr>\n",
       "      <th>4891</th>\n",
       "      <td>4892</td>\n",
       "      <td>0</td>\n",
       "      <td>5.70</td>\n",
       "      <td>0.21</td>\n",
       "      <td>0.32</td>\n",
       "      <td>0.90</td>\n",
       "      <td>0.04</td>\n",
       "      <td>38.00</td>\n",
       "      <td>121.00</td>\n",
       "      <td>0.99</td>\n",
       "      <td>3.24</td>\n",
       "      <td>0.46</td>\n",
       "      <td>10.60</td>\n",
       "    </tr>\n",
       "    <tr>\n",
       "      <th>4892</th>\n",
       "      <td>4893</td>\n",
       "      <td>0</td>\n",
       "      <td>6.50</td>\n",
       "      <td>0.23</td>\n",
       "      <td>0.38</td>\n",
       "      <td>1.30</td>\n",
       "      <td>0.03</td>\n",
       "      <td>29.00</td>\n",
       "      <td>112.00</td>\n",
       "      <td>0.99</td>\n",
       "      <td>3.29</td>\n",
       "      <td>0.54</td>\n",
       "      <td>9.70</td>\n",
       "    </tr>\n",
       "    <tr>\n",
       "      <th>4893</th>\n",
       "      <td>4894</td>\n",
       "      <td>0</td>\n",
       "      <td>6.20</td>\n",
       "      <td>0.21</td>\n",
       "      <td>0.29</td>\n",
       "      <td>1.60</td>\n",
       "      <td>0.04</td>\n",
       "      <td>24.00</td>\n",
       "      <td>92.00</td>\n",
       "      <td>0.99</td>\n",
       "      <td>3.27</td>\n",
       "      <td>0.50</td>\n",
       "      <td>11.20</td>\n",
       "    </tr>\n",
       "    <tr>\n",
       "      <th>4894</th>\n",
       "      <td>4895</td>\n",
       "      <td>0</td>\n",
       "      <td>6.60</td>\n",
       "      <td>0.32</td>\n",
       "      <td>0.36</td>\n",
       "      <td>8.00</td>\n",
       "      <td>0.05</td>\n",
       "      <td>57.00</td>\n",
       "      <td>168.00</td>\n",
       "      <td>0.99</td>\n",
       "      <td>3.15</td>\n",
       "      <td>0.46</td>\n",
       "      <td>9.60</td>\n",
       "    </tr>\n",
       "    <tr>\n",
       "      <th>4895</th>\n",
       "      <td>4896</td>\n",
       "      <td>0</td>\n",
       "      <td>6.50</td>\n",
       "      <td>0.24</td>\n",
       "      <td>0.19</td>\n",
       "      <td>1.20</td>\n",
       "      <td>0.04</td>\n",
       "      <td>30.00</td>\n",
       "      <td>111.00</td>\n",
       "      <td>0.99</td>\n",
       "      <td>2.99</td>\n",
       "      <td>0.46</td>\n",
       "      <td>9.40</td>\n",
       "    </tr>\n",
       "    <tr>\n",
       "      <th>4896</th>\n",
       "      <td>4897</td>\n",
       "      <td>1</td>\n",
       "      <td>5.50</td>\n",
       "      <td>0.29</td>\n",
       "      <td>0.30</td>\n",
       "      <td>1.10</td>\n",
       "      <td>0.02</td>\n",
       "      <td>20.00</td>\n",
       "      <td>110.00</td>\n",
       "      <td>0.99</td>\n",
       "      <td>3.34</td>\n",
       "      <td>0.38</td>\n",
       "      <td>12.80</td>\n",
       "    </tr>\n",
       "    <tr>\n",
       "      <th>4897</th>\n",
       "      <td>4898</td>\n",
       "      <td>0</td>\n",
       "      <td>6.00</td>\n",
       "      <td>0.21</td>\n",
       "      <td>0.38</td>\n",
       "      <td>0.80</td>\n",
       "      <td>0.02</td>\n",
       "      <td>22.00</td>\n",
       "      <td>98.00</td>\n",
       "      <td>0.99</td>\n",
       "      <td>3.26</td>\n",
       "      <td>0.32</td>\n",
       "      <td>11.80</td>\n",
       "    </tr>\n",
       "  </tbody>\n",
       "</table>\n",
       "</div>"
      ],
      "text/plain": [
       "        ID  Quality  ProcessA-Pressure  ProcessA-Humidity  ProcessA-Vibration  \\\n",
       "4888  4889        0               6.80               0.22                0.36   \n",
       "4889  4890        0               4.90               0.23                0.27   \n",
       "4890  4891        0               6.10               0.34                0.29   \n",
       "4891  4892        0               5.70               0.21                0.32   \n",
       "4892  4893        0               6.50               0.23                0.38   \n",
       "4893  4894        0               6.20               0.21                0.29   \n",
       "4894  4895        0               6.60               0.32                0.36   \n",
       "4895  4896        0               6.50               0.24                0.19   \n",
       "4896  4897        1               5.50               0.29                0.30   \n",
       "4897  4898        0               6.00               0.21                0.38   \n",
       "\n",
       "      ProcessB-Light  ProcessB-Skill  ProcessB-Temp  ProcessB-Rotation  \\\n",
       "4888            1.20            0.05          38.00             127.00   \n",
       "4889           11.75            0.03          34.00             118.00   \n",
       "4890            2.20            0.04          25.00             100.00   \n",
       "4891            0.90            0.04          38.00             121.00   \n",
       "4892            1.30            0.03          29.00             112.00   \n",
       "4893            1.60            0.04          24.00              92.00   \n",
       "4894            8.00            0.05          57.00             168.00   \n",
       "4895            1.20            0.04          30.00             111.00   \n",
       "4896            1.10            0.02          20.00             110.00   \n",
       "4897            0.80            0.02          22.00              98.00   \n",
       "\n",
       "      ProcessC-Density  ProcessC-PH  ProcessC-skewness  ProcessC-Time  \n",
       "4888              0.99         3.04               0.54           9.20  \n",
       "4889              1.00         3.07               0.50           9.40  \n",
       "4890              0.99         3.06               0.44          11.80  \n",
       "4891              0.99         3.24               0.46          10.60  \n",
       "4892              0.99         3.29               0.54           9.70  \n",
       "4893              0.99         3.27               0.50          11.20  \n",
       "4894              0.99         3.15               0.46           9.60  \n",
       "4895              0.99         2.99               0.46           9.40  \n",
       "4896              0.99         3.34               0.38          12.80  \n",
       "4897              0.99         3.26               0.32          11.80  "
      ]
     },
     "execution_count": 6,
     "metadata": {},
     "output_type": "execute_result"
    }
   ],
   "source": [
    "df.tail(10)"
   ]
  },
  {
   "cell_type": "code",
   "execution_count": 7,
   "metadata": {},
   "outputs": [],
   "source": [
    "from sklearn.model_selection import train_test_split\n",
    "\n",
    "X = df.drop(columns=[\"Quality\",\"ID\"],axis=1)\n",
    "y = df[\"Quality\"].values\n",
    "\n",
    "X_train, X_test, y_train, y_test = train_test_split(X,y,test_size=0.1,random_state=100,stratify=y)"
   ]
  },
  {
   "cell_type": "markdown",
   "metadata": {},
   "source": [
    "# 3. 事前設定 (Automated Machine Learning)"
   ]
  },
  {
   "cell_type": "code",
   "execution_count": 8,
   "metadata": {},
   "outputs": [],
   "source": [
    "Automl_config = AutoMLConfig(task = 'classification',\n",
    "                             primary_metric = 'AUC_weighted',\n",
    "                             iteration_timeout_minutes = 10,\n",
    "                             iterations = 10,\n",
    "                             X = X_train,\n",
    "                             y = y_train,\n",
    "                             n_cross_validations = 3)"
   ]
  },
  {
   "cell_type": "markdown",
   "metadata": {},
   "source": [
    "# 4. 実行と結果確認"
   ]
  },
  {
   "cell_type": "code",
   "execution_count": 9,
   "metadata": {},
   "outputs": [
    {
     "name": "stdout",
     "output_type": "stream",
     "text": [
      "Running on local machine\n",
      "Parent Run ID: AutoML_84073eaf-27e9-485a-b003-e7ee1a86b78d\n",
      "Current status: DatasetCrossValidationSplit. Generating CV splits.\n",
      "Current status: ModelSelection. Beginning model selection.\n",
      "\n",
      "****************************************************************************************************\n",
      "ITERATION: The iteration being evaluated.\n",
      "PIPELINE: A summary description of the pipeline being evaluated.\n",
      "DURATION: Time taken for the current iteration.\n",
      "METRIC: The result of computing score on the fitted pipeline.\n",
      "BEST: The best observed score thus far.\n",
      "****************************************************************************************************\n",
      "\n",
      " ITERATION   PIPELINE                                       DURATION      METRIC      BEST\n",
      "         0   StandardScalerWrapper SGD                      0:00:08       0.7817    0.7817\n",
      "         1   StandardScalerWrapper SGD                      0:00:08       0.7841    0.7841\n",
      "         2   MinMaxScaler LightGBM                          0:00:08       0.8421    0.8421\n",
      "         3   StandardScalerWrapper SGD                      0:00:08       0.7836    0.8421\n",
      "         4   StandardScalerWrapper ExtremeRandomTrees       0:00:09       0.8112    0.8421\n",
      "         5   StandardScalerWrapper LightGBM                 0:00:08       0.8482    0.8482\n",
      "         6   StandardScalerWrapper SGD                      0:00:08       0.7843    0.8482\n",
      "         7   MinMaxScaler RandomForest                      0:00:08       0.8151    0.8482\n",
      "         8   VotingEnsemble                                 0:00:09       0.8471    0.8482\n",
      "         9   StackEnsemble                                  0:00:10       0.8465    0.8482\n"
     ]
    }
   ],
   "source": [
    "local_run = experiment.submit(Automl_config, show_output=True)"
   ]
  },
  {
   "cell_type": "code",
   "execution_count": 10,
   "metadata": {},
   "outputs": [
    {
     "data": {
      "application/vnd.jupyter.widget-view+json": {
       "model_id": "37c813d1d57f4a7997fc2f1217534e25",
       "version_major": 2,
       "version_minor": 0
      },
      "text/plain": [
       "_AutoMLWidget(widget_settings={'childWidgetDisplay': 'popup', 'send_telemetry': False, 'log_level': 'INFO', 's…"
      ]
     },
     "metadata": {},
     "output_type": "display_data"
    }
   ],
   "source": [
    "from azureml.widgets import RunDetails\n",
    "RunDetails(local_run).show()"
   ]
  },
  {
   "cell_type": "code",
   "execution_count": 11,
   "metadata": {},
   "outputs": [
    {
     "data": {
      "text/html": [
       "<table style=\"width:100%\"><tr><th>Experiment</th><th>Id</th><th>Type</th><th>Status</th><th>Details Page</th><th>Docs Page</th></tr><tr><td>automlQC_explain</td><td>AutoML_84073eaf-27e9-485a-b003-e7ee1a86b78d_5</td><td></td><td>Completed</td><td><a href=\"https://mlworkspace.azure.ai/portal/subscriptions/9c0f91b8-eb2f-484c-979c-15848c098a6b/resourceGroups/test/providers/Microsoft.MachineLearningServices/workspaces/azureml/experiments/automlQC_explain/runs/AutoML_84073eaf-27e9-485a-b003-e7ee1a86b78d_5\" target=\"_blank\" rel=\"noopener\">Link to Azure Portal</a></td><td><a href=\"https://docs.microsoft.com/en-us/python/api/azureml-core/azureml.core.run.Run?view=azure-ml-py\" target=\"_blank\" rel=\"noopener\">Link to Documentation</a></td></tr></table>"
      ],
      "text/plain": [
       "Run(Experiment: automlQC_explain,\n",
       "Id: AutoML_84073eaf-27e9-485a-b003-e7ee1a86b78d_5,\n",
       "Type: None,\n",
       "Status: Completed)"
      ]
     },
     "execution_count": 11,
     "metadata": {},
     "output_type": "execute_result"
    }
   ],
   "source": [
    "best_run, fitted_model = local_run.get_output()\n",
    "best_run"
   ]
  },
  {
   "cell_type": "code",
   "execution_count": 12,
   "metadata": {},
   "outputs": [
    {
     "data": {
      "text/plain": [
       "Pipeline(memory=None,\n",
       "     steps=[('StandardScalerWrapper', <automl.client.core.common.model_wrappers.StandardScalerWrapper object at 0x7f2030762828>), ('LightGBMClassifier', LightGBMClassifier(boosting_type='gbdt', class_weight=None,\n",
       "          colsample_bytree=0.6933333333333332, importance_type='split',\n",
       "          learning_r..., subsample=0.3963157894736842,\n",
       "          subsample_for_bin=200000, subsample_freq=0, verbose=-10))])"
      ]
     },
     "execution_count": 12,
     "metadata": {},
     "output_type": "execute_result"
    }
   ],
   "source": [
    "fitted_model"
   ]
  },
  {
   "cell_type": "markdown",
   "metadata": {},
   "source": [
    "  "
   ]
  },
  {
   "cell_type": "markdown",
   "metadata": {},
   "source": [
    "# 5. Azure Machine Learning Interpretability SDK"
   ]
  },
  {
   "cell_type": "markdown",
   "metadata": {},
   "source": [
    "[Azure Machine Learning Interpretability SDK](https://docs.microsoft.com/en-US/azure/machine-learning/service/machine-learning-interpretability-explainability?view=azuremgmtcompute-fluent-1.0.0) は、Microsoftと主要な3rd Partyのライブラリ(LIME,SHAP etc)で構成されたモデル解釈のフレームワークで、統合APIをご提供しています。  \n",
    "<img src=\"https://docs.microsoft.com/en-US/azure/machine-learning/service/media/machine-learning-interpretability-explainability/interpretability-architecture.png#lightbox\" width=800 align=left>"
   ]
  },
  {
   "cell_type": "code",
   "execution_count": 13,
   "metadata": {},
   "outputs": [
    {
     "name": "stdout",
     "output_type": "stream",
     "text": [
      "Requirement already satisfied: azureml-sdk[contrib] in /data/anaconda/envs/py35/lib/python3.5/site-packages (1.0.48)\n",
      "Requirement already satisfied: azureml-train==1.0.48.* in /data/anaconda/envs/py35/lib/python3.5/site-packages (from azureml-sdk[contrib]) (1.0.48)\n",
      "Requirement already satisfied: azureml-core==1.0.48.* in /data/anaconda/envs/py35/lib/python3.5/site-packages (from azureml-sdk[contrib]) (1.0.48)\n",
      "Requirement already satisfied: azureml-dataprep<1.2.0a,>=1.1.3a in /data/anaconda/envs/py35/lib/python3.5/site-packages (from azureml-sdk[contrib]) (1.1.8)\n",
      "Requirement already satisfied: azureml-pipeline==1.0.48.* in /data/anaconda/envs/py35/lib/python3.5/site-packages (from azureml-sdk[contrib]) (1.0.48)\n",
      "Requirement already satisfied: azureml-contrib-services==1.0.48.*; extra == \"contrib\" in /data/anaconda/envs/py35/lib/python3.5/site-packages (from azureml-sdk[contrib]) (1.0.48)\n",
      "Requirement already satisfied: azureml-contrib-notebook==1.0.48.*; extra == \"contrib\" in /data/anaconda/envs/py35/lib/python3.5/site-packages (from azureml-sdk[contrib]) (1.0.48)\n",
      "Requirement already satisfied: azureml-contrib-server==1.0.48.*; extra == \"contrib\" in /data/anaconda/envs/py35/lib/python3.5/site-packages (from azureml-sdk[contrib]) (1.0.48)\n",
      "Requirement already satisfied: azureml-contrib-explain-model==1.0.48.*; extra == \"contrib\" in /data/anaconda/envs/py35/lib/python3.5/site-packages (from azureml-sdk[contrib]) (1.0.48)\n",
      "Requirement already satisfied: azureml-train-core==1.0.48.* in /data/anaconda/envs/py35/lib/python3.5/site-packages (from azureml-train==1.0.48.*->azureml-sdk[contrib]) (1.0.48)\n",
      "Requirement already satisfied: requests>=2.19.1 in /data/anaconda/envs/py35/lib/python3.5/site-packages (from azureml-core==1.0.48.*->azureml-sdk[contrib]) (2.22.0)\n",
      "Requirement already satisfied: azure-mgmt-keyvault>=0.40.0 in /data/anaconda/envs/py35/lib/python3.5/site-packages (from azureml-core==1.0.48.*->azureml-sdk[contrib]) (1.1.0)\n",
      "Requirement already satisfied: urllib3>=1.23 in /data/anaconda/envs/py35/lib/python3.5/site-packages (from azureml-core==1.0.48.*->azureml-sdk[contrib]) (1.25.3)\n",
      "Requirement already satisfied: adal>=1.2.0 in /data/anaconda/envs/py35/lib/python3.5/site-packages (from azureml-core==1.0.48.*->azureml-sdk[contrib]) (1.2.1)\n",
      "Requirement already satisfied: python-dateutil>=2.7.3 in /data/anaconda/envs/py35/lib/python3.5/site-packages (from azureml-core==1.0.48.*->azureml-sdk[contrib]) (2.7.5)\n",
      "Requirement already satisfied: jmespath in /data/anaconda/envs/py35/lib/python3.5/site-packages (from azureml-core==1.0.48.*->azureml-sdk[contrib]) (0.9.3)\n",
      "Requirement already satisfied: msrestazure>=0.4.33 in /data/anaconda/envs/py35/lib/python3.5/site-packages (from azureml-core==1.0.48.*->azureml-sdk[contrib]) (0.6.0)\n",
      "Requirement already satisfied: ruamel.yaml<=0.15.89,>=0.15.35 in /data/anaconda/envs/py35/lib/python3.5/site-packages (from azureml-core==1.0.48.*->azureml-sdk[contrib]) (0.15.88)\n",
      "Requirement already satisfied: msrest>=0.5.1 in /data/anaconda/envs/py35/lib/python3.5/site-packages (from azureml-core==1.0.48.*->azureml-sdk[contrib]) (0.6.4)\n",
      "Requirement already satisfied: azure-mgmt-storage>=1.5.0 in /data/anaconda/envs/py35/lib/python3.5/site-packages (from azureml-core==1.0.48.*->azureml-sdk[contrib]) (2.0.0)\n",
      "Requirement already satisfied: pytz in /data/anaconda/envs/py35/lib/python3.5/site-packages (from azureml-core==1.0.48.*->azureml-sdk[contrib]) (2018.4)\n",
      "Requirement already satisfied: backports.tempfile in /data/anaconda/envs/py35/lib/python3.5/site-packages (from azureml-core==1.0.48.*->azureml-sdk[contrib]) (1.0)\n",
      "Requirement already satisfied: SecretStorage in /data/anaconda/envs/py35/lib/python3.5/site-packages (from azureml-core==1.0.48.*->azureml-sdk[contrib]) (3.1.1)\n",
      "Requirement already satisfied: cryptography!=1.9,!=2.0.*,!=2.1.*,!=2.2.* in /data/anaconda/envs/py35/lib/python3.5/site-packages (from azureml-core==1.0.48.*->azureml-sdk[contrib]) (2.4.2)\n",
      "Requirement already satisfied: jsonpickle in /data/anaconda/envs/py35/lib/python3.5/site-packages (from azureml-core==1.0.48.*->azureml-sdk[contrib]) (1.2)\n",
      "Requirement already satisfied: azure-graphrbac>=0.40.0 in /data/anaconda/envs/py35/lib/python3.5/site-packages (from azureml-core==1.0.48.*->azureml-sdk[contrib]) (0.40.0)\n",
      "Requirement already satisfied: pyopenssl in /data/anaconda/envs/py35/lib/python3.5/site-packages (from azureml-core==1.0.48.*->azureml-sdk[contrib]) (18.0.0)\n",
      "Requirement already satisfied: azure-common>=1.1.12 in /data/anaconda/envs/py35/lib/python3.5/site-packages (from azureml-core==1.0.48.*->azureml-sdk[contrib]) (1.1.18)\n",
      "Requirement already satisfied: azure-mgmt-authorization>=0.40.0 in /data/anaconda/envs/py35/lib/python3.5/site-packages (from azureml-core==1.0.48.*->azureml-sdk[contrib]) (0.50.0)\n",
      "Requirement already satisfied: contextlib2 in /data/anaconda/envs/py35/lib/python3.5/site-packages (from azureml-core==1.0.48.*->azureml-sdk[contrib]) (0.5.5)\n",
      "Requirement already satisfied: ndg-httpsclient in /data/anaconda/envs/py35/lib/python3.5/site-packages (from azureml-core==1.0.48.*->azureml-sdk[contrib]) (0.5.1)\n",
      "Requirement already satisfied: docker in /data/anaconda/envs/py35/lib/python3.5/site-packages (from azureml-core==1.0.48.*->azureml-sdk[contrib]) (4.0.2)\n",
      "Requirement already satisfied: azure-mgmt-resource>=1.2.1 in /data/anaconda/envs/py35/lib/python3.5/site-packages (from azureml-core==1.0.48.*->azureml-sdk[contrib]) (2.1.0)\n",
      "Requirement already satisfied: pathspec in /data/anaconda/envs/py35/lib/python3.5/site-packages (from azureml-core==1.0.48.*->azureml-sdk[contrib]) (0.5.9)\n",
      "Requirement already satisfied: azure-mgmt-containerregistry>=2.0.0 in /data/anaconda/envs/py35/lib/python3.5/site-packages (from azureml-core==1.0.48.*->azureml-sdk[contrib]) (2.7.0)\n",
      "Requirement already satisfied: PyJWT in /data/anaconda/envs/py35/lib/python3.5/site-packages (from azureml-core==1.0.48.*->azureml-sdk[contrib]) (1.7.1)\n",
      "Requirement already satisfied: six>=1.11.0 in /data/anaconda/envs/py35/lib/python3.5/site-packages (from azureml-core==1.0.48.*->azureml-sdk[contrib]) (1.11.0)\n",
      "Requirement already satisfied: dotnetcore2==2.1.8 in /data/anaconda/envs/py35/lib/python3.5/site-packages (from azureml-dataprep<1.2.0a,>=1.1.3a->azureml-sdk[contrib]) (2.1.8)\n",
      "Requirement already satisfied: azureml-dataprep-native<14.0.0,>=13.0.0 in /data/anaconda/envs/py35/lib/python3.5/site-packages (from azureml-dataprep<1.2.0a,>=1.1.3a->azureml-sdk[contrib]) (13.0.0)\n",
      "Requirement already satisfied: azureml-pipeline-core==1.0.48.* in /data/anaconda/envs/py35/lib/python3.5/site-packages (from azureml-pipeline==1.0.48.*->azureml-sdk[contrib]) (1.0.48)\n",
      "Requirement already satisfied: azureml-pipeline-steps==1.0.48.* in /data/anaconda/envs/py35/lib/python3.5/site-packages (from azureml-pipeline==1.0.48.*->azureml-sdk[contrib]) (1.0.48)\n",
      "Requirement already satisfied: Flask<2.0,>=1.0 in /data/anaconda/envs/py35/lib/python3.5/site-packages (from azureml-contrib-services==1.0.48.*; extra == \"contrib\"->azureml-sdk[contrib]) (1.0.2)\n",
      "Requirement already satisfied: ipython in /data/anaconda/envs/py35/lib/python3.5/site-packages (from azureml-contrib-notebook==1.0.48.*; extra == \"contrib\"->azureml-sdk[contrib]) (6.4.0)\n",
      "Requirement already satisfied: papermill in /data/anaconda/envs/py35/lib/python3.5/site-packages (from azureml-contrib-notebook==1.0.48.*; extra == \"contrib\"->azureml-sdk[contrib]) (1.0.1)\n",
      "Requirement already satisfied: ipykernel in /data/anaconda/envs/py35/lib/python3.5/site-packages (from azureml-contrib-notebook==1.0.48.*; extra == \"contrib\"->azureml-sdk[contrib]) (4.8.2)\n",
      "Requirement already satisfied: azureml-explain-model==1.0.48.* in /data/anaconda/envs/py35/lib/python3.5/site-packages (from azureml-contrib-explain-model==1.0.48.*; extra == \"contrib\"->azureml-sdk[contrib]) (1.0.48)\n",
      "Requirement already satisfied: azureml-telemetry==1.0.48.* in /data/anaconda/envs/py35/lib/python3.5/site-packages (from azureml-train-core==1.0.48.*->azureml-train==1.0.48.*->azureml-sdk[contrib]) (1.0.48)\n",
      "Requirement already satisfied: azureml-train-restclients-hyperdrive==1.0.48.* in /data/anaconda/envs/py35/lib/python3.5/site-packages (from azureml-train-core==1.0.48.*->azureml-train==1.0.48.*->azureml-sdk[contrib]) (1.0.48)\n"
     ]
    },
    {
     "name": "stdout",
     "output_type": "stream",
     "text": [
      "Requirement already satisfied: chardet<3.1.0,>=3.0.2 in /data/anaconda/envs/py35/lib/python3.5/site-packages (from requests>=2.19.1->azureml-core==1.0.48.*->azureml-sdk[contrib]) (3.0.4)\n",
      "Requirement already satisfied: certifi>=2017.4.17 in /data/anaconda/envs/py35/lib/python3.5/site-packages (from requests>=2.19.1->azureml-core==1.0.48.*->azureml-sdk[contrib]) (2018.8.24)\n",
      "Requirement already satisfied: idna<2.9,>=2.5 in /data/anaconda/envs/py35/lib/python3.5/site-packages (from requests>=2.19.1->azureml-core==1.0.48.*->azureml-sdk[contrib]) (2.6)\n",
      "Requirement already satisfied: azure-mgmt-nspkg>=2.0.0 in /data/anaconda/envs/py35/lib/python3.5/site-packages (from azure-mgmt-keyvault>=0.40.0->azureml-core==1.0.48.*->azureml-sdk[contrib]) (3.0.2)\n",
      "Requirement already satisfied: isodate>=0.6.0 in /data/anaconda/envs/py35/lib/python3.5/site-packages (from msrest>=0.5.1->azureml-core==1.0.48.*->azureml-sdk[contrib]) (0.6.0)\n",
      "Requirement already satisfied: requests-oauthlib>=0.5.0 in /data/anaconda/envs/py35/lib/python3.5/site-packages (from msrest>=0.5.1->azureml-core==1.0.48.*->azureml-sdk[contrib]) (1.2.0)\n",
      "Requirement already satisfied: backports.weakref in /data/anaconda/envs/py35/lib/python3.5/site-packages (from backports.tempfile->azureml-core==1.0.48.*->azureml-sdk[contrib]) (1.0.post1)\n",
      "Requirement already satisfied: jeepney in /data/anaconda/envs/py35/lib/python3.5/site-packages (from SecretStorage->azureml-core==1.0.48.*->azureml-sdk[contrib]) (0.4)\n",
      "Requirement already satisfied: cffi!=1.11.3,>=1.7 in /data/anaconda/envs/py35/lib/python3.5/site-packages (from cryptography!=1.9,!=2.0.*,!=2.1.*,!=2.2.*->azureml-core==1.0.48.*->azureml-sdk[contrib]) (1.11.5)\n",
      "Requirement already satisfied: asn1crypto>=0.21.0 in /data/anaconda/envs/py35/lib/python3.5/site-packages (from cryptography!=1.9,!=2.0.*,!=2.1.*,!=2.2.*->azureml-core==1.0.48.*->azureml-sdk[contrib]) (0.24.0)\n",
      "Requirement already satisfied: azure-nspkg>=2.0.0 in /data/anaconda/envs/py35/lib/python3.5/site-packages (from azure-graphrbac>=0.40.0->azureml-core==1.0.48.*->azureml-sdk[contrib]) (3.0.2)\n",
      "Requirement already satisfied: pyasn1>=0.1.1 in /data/anaconda/envs/py35/lib/python3.5/site-packages (from ndg-httpsclient->azureml-core==1.0.48.*->azureml-sdk[contrib]) (0.4.5)\n",
      "Requirement already satisfied: websocket-client>=0.32.0 in /data/anaconda/envs/py35/lib/python3.5/site-packages (from docker->azureml-core==1.0.48.*->azureml-sdk[contrib]) (0.56.0)\n",
      "Requirement already satisfied: distro>=1.2.0 in /data/anaconda/envs/py35/lib/python3.5/site-packages (from dotnetcore2==2.1.8->azureml-dataprep<1.2.0a,>=1.1.3a->azureml-sdk[contrib]) (1.4.0)\n",
      "Requirement already satisfied: Werkzeug>=0.14 in /data/anaconda/envs/py35/lib/python3.5/site-packages (from Flask<2.0,>=1.0->azureml-contrib-services==1.0.48.*; extra == \"contrib\"->azureml-sdk[contrib]) (0.14.1)\n",
      "Requirement already satisfied: click>=5.1 in /data/anaconda/envs/py35/lib/python3.5/site-packages (from Flask<2.0,>=1.0->azureml-contrib-services==1.0.48.*; extra == \"contrib\"->azureml-sdk[contrib]) (7.0)\n",
      "Requirement already satisfied: Jinja2>=2.10 in /data/anaconda/envs/py35/lib/python3.5/site-packages (from Flask<2.0,>=1.0->azureml-contrib-services==1.0.48.*; extra == \"contrib\"->azureml-sdk[contrib]) (2.10)\n",
      "Requirement already satisfied: itsdangerous>=0.24 in /data/anaconda/envs/py35/lib/python3.5/site-packages (from Flask<2.0,>=1.0->azureml-contrib-services==1.0.48.*; extra == \"contrib\"->azureml-sdk[contrib]) (0.24)\n",
      "Requirement already satisfied: pickleshare in /data/anaconda/envs/py35/lib/python3.5/site-packages (from ipython->azureml-contrib-notebook==1.0.48.*; extra == \"contrib\"->azureml-sdk[contrib]) (0.7.4)\n",
      "Requirement already satisfied: setuptools>=18.5 in /data/anaconda/envs/py35/lib/python3.5/site-packages (from ipython->azureml-contrib-notebook==1.0.48.*; extra == \"contrib\"->azureml-sdk[contrib]) (40.2.0)\n",
      "Requirement already satisfied: simplegeneric>0.8 in /data/anaconda/envs/py35/lib/python3.5/site-packages (from ipython->azureml-contrib-notebook==1.0.48.*; extra == \"contrib\"->azureml-sdk[contrib]) (0.8.1)\n",
      "Requirement already satisfied: pexpect; sys_platform != \"win32\" in /data/anaconda/envs/py35/lib/python3.5/site-packages (from ipython->azureml-contrib-notebook==1.0.48.*; extra == \"contrib\"->azureml-sdk[contrib]) (4.5.0)\n",
      "Requirement already satisfied: jedi>=0.10 in /data/anaconda/envs/py35/lib/python3.5/site-packages (from ipython->azureml-contrib-notebook==1.0.48.*; extra == \"contrib\"->azureml-sdk[contrib]) (0.12.0)\n",
      "Requirement already satisfied: traitlets>=4.2 in /data/anaconda/envs/py35/lib/python3.5/site-packages (from ipython->azureml-contrib-notebook==1.0.48.*; extra == \"contrib\"->azureml-sdk[contrib]) (4.3.2)\n",
      "Requirement already satisfied: prompt-toolkit<2.0.0,>=1.0.15 in /data/anaconda/envs/py35/lib/python3.5/site-packages (from ipython->azureml-contrib-notebook==1.0.48.*; extra == \"contrib\"->azureml-sdk[contrib]) (1.0.15)\n",
      "Requirement already satisfied: backcall in /data/anaconda/envs/py35/lib/python3.5/site-packages (from ipython->azureml-contrib-notebook==1.0.48.*; extra == \"contrib\"->azureml-sdk[contrib]) (0.1.0)\n",
      "Requirement already satisfied: pygments in /data/anaconda/envs/py35/lib/python3.5/site-packages (from ipython->azureml-contrib-notebook==1.0.48.*; extra == \"contrib\"->azureml-sdk[contrib]) (2.2.0)\n",
      "Requirement already satisfied: decorator in /data/anaconda/envs/py35/lib/python3.5/site-packages (from ipython->azureml-contrib-notebook==1.0.48.*; extra == \"contrib\"->azureml-sdk[contrib]) (4.3.0)\n",
      "Requirement already satisfied: future in /data/anaconda/envs/py35/lib/python3.5/site-packages (from papermill->azureml-contrib-notebook==1.0.48.*; extra == \"contrib\"->azureml-sdk[contrib]) (0.17.1)\n",
      "Requirement already satisfied: ansiwrap in /data/anaconda/envs/py35/lib/python3.5/site-packages (from papermill->azureml-contrib-notebook==1.0.48.*; extra == \"contrib\"->azureml-sdk[contrib]) (0.8.4)\n",
      "Requirement already satisfied: nbformat in /data/anaconda/envs/py35/lib/python3.5/site-packages (from papermill->azureml-contrib-notebook==1.0.48.*; extra == \"contrib\"->azureml-sdk[contrib]) (4.4.0)\n",
      "Requirement already satisfied: jupyter-client in /data/anaconda/envs/py35/lib/python3.5/site-packages (from papermill->azureml-contrib-notebook==1.0.48.*; extra == \"contrib\"->azureml-sdk[contrib]) (5.2.3)\n",
      "Requirement already satisfied: tqdm>=4.29.1 in /data/anaconda/envs/py35/lib/python3.5/site-packages (from papermill->azureml-contrib-notebook==1.0.48.*; extra == \"contrib\"->azureml-sdk[contrib]) (4.31.1)\n",
      "Requirement already satisfied: tenacity in /data/anaconda/envs/py35/lib/python3.5/site-packages (from papermill->azureml-contrib-notebook==1.0.48.*; extra == \"contrib\"->azureml-sdk[contrib]) (5.0.4)\n",
      "Requirement already satisfied: entrypoints in /data/anaconda/envs/py35/lib/python3.5/site-packages (from papermill->azureml-contrib-notebook==1.0.48.*; extra == \"contrib\"->azureml-sdk[contrib]) (0.3)\n",
      "Requirement already satisfied: nbconvert>=5.5 in /data/anaconda/envs/py35/lib/python3.5/site-packages (from papermill->azureml-contrib-notebook==1.0.48.*; extra == \"contrib\"->azureml-sdk[contrib]) (5.5.0)\n",
      "Requirement already satisfied: pyyaml in /data/anaconda/envs/py35/lib/python3.5/site-packages (from papermill->azureml-contrib-notebook==1.0.48.*; extra == \"contrib\"->azureml-sdk[contrib]) (3.12)\n",
      "Requirement already satisfied: tornado>=4.0 in /data/anaconda/envs/py35/lib/python3.5/site-packages (from ipykernel->azureml-contrib-notebook==1.0.48.*; extra == \"contrib\"->azureml-sdk[contrib]) (5.0.2)\n",
      "Requirement already satisfied: scikit-learn in /data/anaconda/envs/py35/lib/python3.5/site-packages (from azureml-explain-model==1.0.48.*->azureml-contrib-explain-model==1.0.48.*; extra == \"contrib\"->azureml-sdk[contrib]) (0.20.0)\n",
      "Requirement already satisfied: scipy in /data/anaconda/envs/py35/lib/python3.5/site-packages (from azureml-explain-model==1.0.48.*->azureml-contrib-explain-model==1.0.48.*; extra == \"contrib\"->azureml-sdk[contrib]) (1.1.0)\n",
      "Requirement already satisfied: shap<=0.29.3,>=0.20.0 in /data/anaconda/envs/py35/lib/python3.5/site-packages (from azureml-explain-model==1.0.48.*->azureml-contrib-explain-model==1.0.48.*; extra == \"contrib\"->azureml-sdk[contrib]) (0.29.3)\n"
     ]
    },
    {
     "name": "stdout",
     "output_type": "stream",
     "text": [
      "Requirement already satisfied: numpy in /data/anaconda/envs/py35/lib/python3.5/site-packages (from azureml-explain-model==1.0.48.*->azureml-contrib-explain-model==1.0.48.*; extra == \"contrib\"->azureml-sdk[contrib]) (1.14.6)\n",
      "Requirement already satisfied: pandas in /data/anaconda/envs/py35/lib/python3.5/site-packages (from azureml-explain-model==1.0.48.*->azureml-contrib-explain-model==1.0.48.*; extra == \"contrib\"->azureml-sdk[contrib]) (0.23.0)\n",
      "Requirement already satisfied: applicationinsights in /data/anaconda/envs/py35/lib/python3.5/site-packages (from azureml-telemetry==1.0.48.*->azureml-train-core==1.0.48.*->azureml-train==1.0.48.*->azureml-sdk[contrib]) (0.11.7)\n",
      "Requirement already satisfied: oauthlib>=3.0.0 in /data/anaconda/envs/py35/lib/python3.5/site-packages (from requests-oauthlib>=0.5.0->msrest>=0.5.1->azureml-core==1.0.48.*->azureml-sdk[contrib]) (3.0.1)\n",
      "Requirement already satisfied: pycparser in /data/anaconda/envs/py35/lib/python3.5/site-packages (from cffi!=1.11.3,>=1.7->cryptography!=1.9,!=2.0.*,!=2.1.*,!=2.2.*->azureml-core==1.0.48.*->azureml-sdk[contrib]) (2.18)\n",
      "Requirement already satisfied: MarkupSafe>=0.23 in /data/anaconda/envs/py35/lib/python3.5/site-packages (from Jinja2>=2.10->Flask<2.0,>=1.0->azureml-contrib-services==1.0.48.*; extra == \"contrib\"->azureml-sdk[contrib]) (1.0)\n",
      "Requirement already satisfied: ptyprocess>=0.5 in /data/anaconda/envs/py35/lib/python3.5/site-packages (from pexpect; sys_platform != \"win32\"->ipython->azureml-contrib-notebook==1.0.48.*; extra == \"contrib\"->azureml-sdk[contrib]) (0.5.2)\n",
      "Requirement already satisfied: parso>=0.2.0 in /data/anaconda/envs/py35/lib/python3.5/site-packages (from jedi>=0.10->ipython->azureml-contrib-notebook==1.0.48.*; extra == \"contrib\"->azureml-sdk[contrib]) (0.2.0)\n",
      "Requirement already satisfied: ipython_genutils in /data/anaconda/envs/py35/lib/python3.5/site-packages (from traitlets>=4.2->ipython->azureml-contrib-notebook==1.0.48.*; extra == \"contrib\"->azureml-sdk[contrib]) (0.2.0)\n",
      "Requirement already satisfied: wcwidth in /data/anaconda/envs/py35/lib/python3.5/site-packages (from prompt-toolkit<2.0.0,>=1.0.15->ipython->azureml-contrib-notebook==1.0.48.*; extra == \"contrib\"->azureml-sdk[contrib]) (0.1.7)\n",
      "Requirement already satisfied: textwrap3>=0.9.2 in /data/anaconda/envs/py35/lib/python3.5/site-packages (from ansiwrap->papermill->azureml-contrib-notebook==1.0.48.*; extra == \"contrib\"->azureml-sdk[contrib]) (0.9.2)\n",
      "Requirement already satisfied: jsonschema!=2.5.0,>=2.4 in /data/anaconda/envs/py35/lib/python3.5/site-packages (from nbformat->papermill->azureml-contrib-notebook==1.0.48.*; extra == \"contrib\"->azureml-sdk[contrib]) (2.6.0)\n",
      "Requirement already satisfied: jupyter_core in /data/anaconda/envs/py35/lib/python3.5/site-packages (from nbformat->papermill->azureml-contrib-notebook==1.0.48.*; extra == \"contrib\"->azureml-sdk[contrib]) (4.4.0)\n",
      "Requirement already satisfied: pyzmq>=13 in /data/anaconda/envs/py35/lib/python3.5/site-packages (from jupyter-client->papermill->azureml-contrib-notebook==1.0.48.*; extra == \"contrib\"->azureml-sdk[contrib]) (17.0.0)\n",
      "Requirement already satisfied: mistune>=0.8.1 in /data/anaconda/envs/py35/lib/python3.5/site-packages (from nbconvert>=5.5->papermill->azureml-contrib-notebook==1.0.48.*; extra == \"contrib\"->azureml-sdk[contrib]) (0.8.3)\n",
      "Requirement already satisfied: defusedxml in /data/anaconda/envs/py35/lib/python3.5/site-packages (from nbconvert>=5.5->papermill->azureml-contrib-notebook==1.0.48.*; extra == \"contrib\"->azureml-sdk[contrib]) (0.6.0)\n",
      "Requirement already satisfied: testpath in /data/anaconda/envs/py35/lib/python3.5/site-packages (from nbconvert>=5.5->papermill->azureml-contrib-notebook==1.0.48.*; extra == \"contrib\"->azureml-sdk[contrib]) (0.3.1)\n",
      "Requirement already satisfied: bleach in /data/anaconda/envs/py35/lib/python3.5/site-packages (from nbconvert>=5.5->papermill->azureml-contrib-notebook==1.0.48.*; extra == \"contrib\"->azureml-sdk[contrib]) (2.1.3)\n",
      "Requirement already satisfied: pandocfilters>=1.4.1 in /data/anaconda/envs/py35/lib/python3.5/site-packages (from nbconvert>=5.5->papermill->azureml-contrib-notebook==1.0.48.*; extra == \"contrib\"->azureml-sdk[contrib]) (1.4.2)\n",
      "Requirement already satisfied: matplotlib in /data/anaconda/envs/py35/lib/python3.5/site-packages (from shap<=0.29.3,>=0.20.0->azureml-explain-model==1.0.48.*->azureml-contrib-explain-model==1.0.48.*; extra == \"contrib\"->azureml-sdk[contrib]) (2.2.2)\n",
      "Requirement already satisfied: scikit-image in /data/anaconda/envs/py35/lib/python3.5/site-packages (from shap<=0.29.3,>=0.20.0->azureml-explain-model==1.0.48.*->azureml-contrib-explain-model==1.0.48.*; extra == \"contrib\"->azureml-sdk[contrib]) (0.13.1)\n",
      "Requirement already satisfied: html5lib!=1.0b1,!=1.0b2,!=1.0b3,!=1.0b4,!=1.0b5,!=1.0b6,!=1.0b7,!=1.0b8,>=0.99999999pre in /data/anaconda/envs/py35/lib/python3.5/site-packages (from bleach->nbconvert>=5.5->papermill->azureml-contrib-notebook==1.0.48.*; extra == \"contrib\"->azureml-sdk[contrib]) (1.0.1)\n",
      "Requirement already satisfied: cycler>=0.10 in /data/anaconda/envs/py35/lib/python3.5/site-packages (from matplotlib->shap<=0.29.3,>=0.20.0->azureml-explain-model==1.0.48.*->azureml-contrib-explain-model==1.0.48.*; extra == \"contrib\"->azureml-sdk[contrib]) (0.10.0)\n",
      "Requirement already satisfied: pyparsing!=2.0.4,!=2.1.2,!=2.1.6,>=2.0.1 in /data/anaconda/envs/py35/lib/python3.5/site-packages (from matplotlib->shap<=0.29.3,>=0.20.0->azureml-explain-model==1.0.48.*->azureml-contrib-explain-model==1.0.48.*; extra == \"contrib\"->azureml-sdk[contrib]) (2.2.0)\n",
      "Requirement already satisfied: kiwisolver>=1.0.1 in /data/anaconda/envs/py35/lib/python3.5/site-packages (from matplotlib->shap<=0.29.3,>=0.20.0->azureml-explain-model==1.0.48.*->azureml-contrib-explain-model==1.0.48.*; extra == \"contrib\"->azureml-sdk[contrib]) (1.0.1)\n",
      "Requirement already satisfied: networkx>=1.8 in /data/anaconda/envs/py35/lib/python3.5/site-packages (from scikit-image->shap<=0.29.3,>=0.20.0->azureml-explain-model==1.0.48.*->azureml-contrib-explain-model==1.0.48.*; extra == \"contrib\"->azureml-sdk[contrib]) (2.1)\n",
      "Requirement already satisfied: pillow>=2.1.0 in /data/anaconda/envs/py35/lib/python3.5/site-packages (from scikit-image->shap<=0.29.3,>=0.20.0->azureml-explain-model==1.0.48.*->azureml-contrib-explain-model==1.0.48.*; extra == \"contrib\"->azureml-sdk[contrib]) (5.1.0)\n",
      "Requirement already satisfied: PyWavelets>=0.4.0 in /data/anaconda/envs/py35/lib/python3.5/site-packages (from scikit-image->shap<=0.29.3,>=0.20.0->azureml-explain-model==1.0.48.*->azureml-contrib-explain-model==1.0.48.*; extra == \"contrib\"->azureml-sdk[contrib]) (0.5.2)\n",
      "Requirement already satisfied: webencodings in /data/anaconda/envs/py35/lib/python3.5/site-packages (from html5lib!=1.0b1,!=1.0b2,!=1.0b3,!=1.0b4,!=1.0b5,!=1.0b6,!=1.0b7,!=1.0b8,>=0.99999999pre->bleach->nbconvert>=5.5->papermill->azureml-contrib-notebook==1.0.48.*; extra == \"contrib\"->azureml-sdk[contrib]) (0.5.1)\n",
      "\u001b[31mmxnet-model-server 1.0.1 requires model-archiver, which is not installed.\u001b[0m\n",
      "\u001b[31mautovizwidget 0.12.7 has requirement plotly<3.0,>=1.10.0, but you'll have plotly 3.6.1 which is incompatible.\u001b[0m\n",
      "\u001b[31mflake8 3.7.5 has requirement pycodestyle<2.6.0,>=2.5.0, but you'll have pycodestyle 2.4.0 which is incompatible.\u001b[0m\n",
      "\u001b[31mchainermn 1.3.1 has requirement chainer<5.0,>=3.5.0, but you'll have chainer 5.2.0 which is incompatible.\u001b[0m\n",
      "\u001b[31mbotocore 1.12.93 has requirement urllib3<1.25,>=1.20; python_version >= \"3.4\", but you'll have urllib3 1.25.3 which is incompatible.\u001b[0m\n",
      "\u001b[31mmxnet 1.3.0 has requirement requests<2.19.0,>=2.18.4, but you'll have requests 2.22.0 which is incompatible.\u001b[0m\n",
      "\u001b[31mazureml-contrib-opendatasets 1.0.33 has requirement azureml-telemetry==1.0.33.*, but you'll have azureml-telemetry 1.0.48 which is incompatible.\u001b[0m\n",
      "\u001b[31mblobxfer 1.6.0 has requirement requests~=2.21.0, but you'll have requests 2.22.0 which is incompatible.\u001b[0m\n",
      "\u001b[31mblobxfer 1.6.0 has requirement ruamel.yaml~=0.15.85, but you'll have ruamel-yaml 0.15.35 which is incompatible.\u001b[0m\n",
      "\u001b[33mYou are using pip version 19.1.1, however version 19.2 is available.\n",
      "You should consider upgrading via the 'pip install --upgrade pip' command.\u001b[0m\n"
     ]
    }
   ],
   "source": [
    "!pip install azureml-sdk[contrib]"
   ]
  },
  {
   "cell_type": "code",
   "execution_count": 14,
   "metadata": {},
   "outputs": [
    {
     "name": "stdout",
     "output_type": "stream",
     "text": [
      "Installing /data/anaconda/envs/py35/lib/python3.5/site-packages/azureml/contrib/explain/model/visualize/static -> microsoft-mli-widget\n",
      "Up to date: /data/anaconda/envs/py35/share/jupyter/nbextensions/microsoft-mli-widget/index.js.map\n",
      "Up to date: /data/anaconda/envs/py35/share/jupyter/nbextensions/microsoft-mli-widget/index.js\n",
      "Up to date: /data/anaconda/envs/py35/share/jupyter/nbextensions/microsoft-mli-widget/extension.js.map\n",
      "Up to date: /data/anaconda/envs/py35/share/jupyter/nbextensions/microsoft-mli-widget/extension.js\n",
      "- Validating: \u001b[32mOK\u001b[0m\n",
      "\n",
      "    To initialize this nbextension in the browser every time the notebook (or other app) loads:\n",
      "    \n",
      "          jupyter nbextension enable azureml.contrib.explain.model.visualize --py --sys-prefix\n",
      "    \n",
      "Enabling notebook extension microsoft-mli-widget/extension...\n",
      "      - Validating: \u001b[32mOK\u001b[0m\n"
     ]
    }
   ],
   "source": [
    "!jupyter nbextension install --py --sys-prefix azureml.contrib.explain.model.visualize\n",
    "!jupyter nbextension enable --py --sys-prefix azureml.contrib.explain.model.visualize"
   ]
  },
  {
   "cell_type": "code",
   "execution_count": 15,
   "metadata": {},
   "outputs": [],
   "source": [
    "from azureml.explain.model.tabular_explainer import TabularExplainer\n",
    "classes = [\"false\",\"true\"]\n",
    "tabular_explainer = TabularExplainer(fitted_model, X_train, features=X_train.columns, classes=classes)"
   ]
  },
  {
   "cell_type": "code",
   "execution_count": 16,
   "metadata": {},
   "outputs": [
    {
     "name": "stderr",
     "output_type": "stream",
     "text": [
      "100%|██████████| 100/100 [00:15<00:00,  6.54it/s]\n"
     ]
    }
   ],
   "source": [
    "global_explanation = tabular_explainer.explain_global(X_train[:100])"
   ]
  },
  {
   "cell_type": "code",
   "execution_count": 21,
   "metadata": {},
   "outputs": [
    {
     "data": {
      "application/vnd.jupyter.widget-view+json": {
       "model_id": "b8dcc241a71d4165ac2ebcae9473e53d",
       "version_major": 2,
       "version_minor": 0
      },
      "text/plain": [
       "ExplanationWidget(value={'localExplanations': [[[-0.00019272351599272652, -0.018569533525989744, 0.0, 0.010266…"
      ]
     },
     "metadata": {},
     "output_type": "display_data"
    },
    {
     "data": {
      "text/plain": [
       "<azureml.contrib.explain.model.visualize.ExplanationDashboard.ExplanationDashboard at 0x7f1fd2ace668>"
      ]
     },
     "execution_count": 21,
     "metadata": {},
     "output_type": "execute_result"
    }
   ],
   "source": [
    "from azureml.contrib.explain.model.visualize import ExplanationDashboard\n",
    "ExplanationDashboard(global_explanation, fitted_model, X_test[:100])"
   ]
  },
  {
   "cell_type": "code",
   "execution_count": null,
   "metadata": {},
   "outputs": [],
   "source": []
  }
 ],
 "metadata": {
  "kernelspec": {
   "display_name": "Python 3.6 - AzureML",
   "language": "python",
   "name": "python3-azureml"
  },
  "language_info": {
   "codemirror_mode": {
    "name": "ipython",
    "version": 3
   },
   "file_extension": ".py",
   "mimetype": "text/x-python",
   "name": "python",
   "nbconvert_exporter": "python",
   "pygments_lexer": "ipython3",
   "version": "3.6.8"
  }
 },
 "nbformat": 4,
 "nbformat_minor": 2
}
