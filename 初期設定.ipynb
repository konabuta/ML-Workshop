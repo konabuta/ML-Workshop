{
 "cells": [
  {
   "cell_type": "markdown",
   "metadata": {},
   "source": [
    "# 初期設定"
   ]
  },
  {
   "cell_type": "markdown",
   "metadata": {},
   "source": [
    "## 1. Azure Machine Learning service Python SDK バージョン確認"
   ]
  },
  {
   "cell_type": "code",
   "execution_count": 1,
   "metadata": {},
   "outputs": [
    {
     "name": "stderr",
     "output_type": "stream",
     "text": [
      "/Users/konabuta/miniconda3/envs/myenv/lib/python3.6/site-packages/requests/__init__.py:91: RequestsDependencyWarning: urllib3 (1.25.2) or chardet (3.0.4) doesn't match a supported version!\n",
      "  RequestsDependencyWarning)\n"
     ]
    },
    {
     "name": "stdout",
     "output_type": "stream",
     "text": [
      "This notebook was created using version 1.0.39 of the Azure ML SDK\n",
      "You are currently using version 1.0.39 of the Azure ML SDK\n"
     ]
    }
   ],
   "source": [
    "import azureml.core\n",
    "\n",
    "print(\"This notebook was created using version 1.0.39 of the Azure ML SDK\")\n",
    "print(\"You are currently using version\", azureml.core.VERSION, \"of the Azure ML SDK\")"
   ]
  },
  {
   "cell_type": "markdown",
   "metadata": {},
   "source": [
    "## 2. Azure Machine Learning service Workspaceの認証"
   ]
  },
  {
   "cell_type": "markdown",
   "metadata": {},
   "source": [
    "接続情報を記録する config.json を作成\n",
    "- subscription_id : サブスクリプションのID\n",
    "- resource_group : リソースグループ名\n",
    "- workspace_name : Azure Machine Learning service ワークスペース名称"
   ]
  },
  {
   "cell_type": "code",
   "execution_count": 4,
   "metadata": {},
   "outputs": [
    {
     "name": "stdout",
     "output_type": "stream",
     "text": [
      "Workspace configuration succeeded.\n"
     ]
    }
   ],
   "source": [
    "from azureml.core import Workspace\n",
    "\n",
    "try:\n",
    "    ws = Workspace(\n",
    "        subscription_id = \"9c0f91b8-eb2f-484c-979c-15848c098a6b\", \n",
    "        resource_group = \"handson\", \n",
    "        workspace_name = \"azureml\"\n",
    "    )\n",
    "\n",
    "    ws.write_config()\n",
    "    print(\"Workspace configuration succeeded.\")\n",
    "except:\n",
    "    print(\"Workspace not accessible. Change your parameters or create a new workspace below\")"
   ]
  },
  {
   "cell_type": "code",
   "execution_count": 3,
   "metadata": {},
   "outputs": [
    {
     "name": "stdout",
     "output_type": "stream",
     "text": [
      "9c0f91b8-eb2f-484c-979c-15848c098a6b handson azureml\n"
     ]
    }
   ],
   "source": [
    "ws.from_config()\n",
    "print(ws.subscription_id, ws.resource_group, ws.name)"
   ]
  },
  {
   "cell_type": "markdown",
   "metadata": {},
   "source": [
    "## Python SDK アップデート"
   ]
  },
  {
   "cell_type": "code",
   "execution_count": 5,
   "metadata": {},
   "outputs": [
    {
     "name": "stdout",
     "output_type": "stream",
     "text": [
      "Requirement already up-to-date: azureml-sdk[automl,contrib,explain,notebooks] in /Users/konabuta/miniconda3/envs/myenv/lib/python3.6/site-packages (1.0.39)\n",
      "Requirement already up-to-date: azureml-dataprep in /Users/konabuta/miniconda3/envs/myenv/lib/python3.6/site-packages (1.1.3)\n",
      "Requirement already satisfied, skipping upgrade: azureml-core==1.0.39.* in /Users/konabuta/miniconda3/envs/myenv/lib/python3.6/site-packages (from azureml-sdk[automl,contrib,explain,notebooks]) (1.0.39)\n",
      "Requirement already satisfied, skipping upgrade: azureml-train==1.0.39.* in /Users/konabuta/miniconda3/envs/myenv/lib/python3.6/site-packages (from azureml-sdk[automl,contrib,explain,notebooks]) (1.0.39)\n",
      "Requirement already satisfied, skipping upgrade: azureml-pipeline==1.0.39.* in /Users/konabuta/miniconda3/envs/myenv/lib/python3.6/site-packages (from azureml-sdk[automl,contrib,explain,notebooks]) (1.0.39)\n",
      "Requirement already satisfied, skipping upgrade: azureml-train-automl==1.0.39.*; extra == \"automl\" in /Users/konabuta/miniconda3/envs/myenv/lib/python3.6/site-packages (from azureml-sdk[automl,contrib,explain,notebooks]) (1.0.39.1)\n",
      "Requirement already satisfied, skipping upgrade: azureml-contrib-services==1.0.39.*; extra == \"contrib\" in /Users/konabuta/miniconda3/envs/myenv/lib/python3.6/site-packages (from azureml-sdk[automl,contrib,explain,notebooks]) (1.0.39)\n",
      "Requirement already satisfied, skipping upgrade: azureml-contrib-notebook==1.0.39.*; extra == \"contrib\" in /Users/konabuta/miniconda3/envs/myenv/lib/python3.6/site-packages (from azureml-sdk[automl,contrib,explain,notebooks]) (1.0.39)\n",
      "Requirement already satisfied, skipping upgrade: azureml-contrib-server==1.0.39.*; extra == \"contrib\" in /Users/konabuta/miniconda3/envs/myenv/lib/python3.6/site-packages (from azureml-sdk[automl,contrib,explain,notebooks]) (1.0.39)\n",
      "Requirement already satisfied, skipping upgrade: azureml-contrib-explain-model==1.0.39.*; extra == \"contrib\" in /Users/konabuta/miniconda3/envs/myenv/lib/python3.6/site-packages (from azureml-sdk[automl,contrib,explain,notebooks]) (1.0.39)\n",
      "Requirement already satisfied, skipping upgrade: azureml-explain-model==1.0.39.*; extra == \"explain\" in /Users/konabuta/miniconda3/envs/myenv/lib/python3.6/site-packages (from azureml-sdk[automl,contrib,explain,notebooks]) (1.0.39)\n",
      "Requirement already satisfied, skipping upgrade: azureml-widgets==1.0.39.*; extra == \"notebooks\" in /Users/konabuta/miniconda3/envs/myenv/lib/python3.6/site-packages (from azureml-sdk[automl,contrib,explain,notebooks]) (1.0.39)\n",
      "Requirement already satisfied, skipping upgrade: azureml-dataprep-native<13.0.0,>=12.0.1 in /Users/konabuta/miniconda3/envs/myenv/lib/python3.6/site-packages (from azureml-dataprep) (12.0.1)\n",
      "Requirement already satisfied, skipping upgrade: dotnetcore2==2.1.8 in /Users/konabuta/miniconda3/envs/myenv/lib/python3.6/site-packages (from azureml-dataprep) (2.1.8)\n",
      "Requirement already satisfied, skipping upgrade: six>=1.11.0 in /Users/konabuta/miniconda3/envs/myenv/lib/python3.6/site-packages (from azureml-core==1.0.39.*->azureml-sdk[automl,contrib,explain,notebooks]) (1.12.0)\n",
      "Requirement already satisfied, skipping upgrade: azure-graphrbac>=0.40.0 in /Users/konabuta/miniconda3/envs/myenv/lib/python3.6/site-packages (from azureml-core==1.0.39.*->azureml-sdk[automl,contrib,explain,notebooks]) (0.61.0)\n",
      "Requirement already satisfied, skipping upgrade: pytz in /Users/konabuta/miniconda3/envs/myenv/lib/python3.6/site-packages (from azureml-core==1.0.39.*->azureml-sdk[automl,contrib,explain,notebooks]) (2019.1)\n",
      "Requirement already satisfied, skipping upgrade: adal>=1.2.0 in /Users/konabuta/miniconda3/envs/myenv/lib/python3.6/site-packages (from azureml-core==1.0.39.*->azureml-sdk[automl,contrib,explain,notebooks]) (1.2.1)\n",
      "Requirement already satisfied, skipping upgrade: azure-mgmt-resource>=1.2.1 in /Users/konabuta/miniconda3/envs/myenv/lib/python3.6/site-packages (from azureml-core==1.0.39.*->azureml-sdk[automl,contrib,explain,notebooks]) (2.1.0)\n",
      "Requirement already satisfied, skipping upgrade: msrestazure>=0.4.33 in /Users/konabuta/miniconda3/envs/myenv/lib/python3.6/site-packages (from azureml-core==1.0.39.*->azureml-sdk[automl,contrib,explain,notebooks]) (0.6.0)\n",
      "Requirement already satisfied, skipping upgrade: msrest>=0.5.1 in /Users/konabuta/miniconda3/envs/myenv/lib/python3.6/site-packages (from azureml-core==1.0.39.*->azureml-sdk[automl,contrib,explain,notebooks]) (0.6.6)\n",
      "Requirement already satisfied, skipping upgrade: docker in /Users/konabuta/miniconda3/envs/myenv/lib/python3.6/site-packages (from azureml-core==1.0.39.*->azureml-sdk[automl,contrib,explain,notebooks]) (3.7.2)\n",
      "Requirement already satisfied, skipping upgrade: python-dateutil>=2.7.3 in /Users/konabuta/miniconda3/envs/myenv/lib/python3.6/site-packages (from azureml-core==1.0.39.*->azureml-sdk[automl,contrib,explain,notebooks]) (2.8.0)\n",
      "Requirement already satisfied, skipping upgrade: jsonpickle in /Users/konabuta/miniconda3/envs/myenv/lib/python3.6/site-packages (from azureml-core==1.0.39.*->azureml-sdk[automl,contrib,explain,notebooks]) (1.1)\n",
      "Requirement already satisfied, skipping upgrade: pyopenssl in /Users/konabuta/miniconda3/envs/myenv/lib/python3.6/site-packages (from azureml-core==1.0.39.*->azureml-sdk[automl,contrib,explain,notebooks]) (19.0.0)\n",
      "Requirement already satisfied, skipping upgrade: cryptography!=1.9,!=2.0.*,!=2.1.*,!=2.2.* in /Users/konabuta/miniconda3/envs/myenv/lib/python3.6/site-packages (from azureml-core==1.0.39.*->azureml-sdk[automl,contrib,explain,notebooks]) (2.6.1)\n",
      "Requirement already satisfied, skipping upgrade: paramiko>=2.0.8 in /Users/konabuta/miniconda3/envs/myenv/lib/python3.6/site-packages (from azureml-core==1.0.39.*->azureml-sdk[automl,contrib,explain,notebooks]) (2.4.2)\n",
      "Requirement already satisfied, skipping upgrade: contextlib2 in /Users/konabuta/miniconda3/envs/myenv/lib/python3.6/site-packages (from azureml-core==1.0.39.*->azureml-sdk[automl,contrib,explain,notebooks]) (0.5.5)\n",
      "Requirement already satisfied, skipping upgrade: azure-mgmt-authorization>=0.40.0 in /Users/konabuta/miniconda3/envs/myenv/lib/python3.6/site-packages (from azureml-core==1.0.39.*->azureml-sdk[automl,contrib,explain,notebooks]) (0.51.1)\n",
      "Requirement already satisfied, skipping upgrade: pathspec in /Users/konabuta/miniconda3/envs/myenv/lib/python3.6/site-packages (from azureml-core==1.0.39.*->azureml-sdk[automl,contrib,explain,notebooks]) (0.5.9)\n",
      "Requirement already satisfied, skipping upgrade: azure-common>=1.1.12 in /Users/konabuta/miniconda3/envs/myenv/lib/python3.6/site-packages (from azureml-core==1.0.39.*->azureml-sdk[automl,contrib,explain,notebooks]) (1.1.20)\n",
      "Requirement already satisfied, skipping upgrade: SecretStorage in /Users/konabuta/miniconda3/envs/myenv/lib/python3.6/site-packages (from azureml-core==1.0.39.*->azureml-sdk[automl,contrib,explain,notebooks]) (3.1.1)\n",
      "Requirement already satisfied, skipping upgrade: azure-mgmt-storage>=1.5.0 in /Users/konabuta/miniconda3/envs/myenv/lib/python3.6/site-packages (from azureml-core==1.0.39.*->azureml-sdk[automl,contrib,explain,notebooks]) (3.3.0)\n",
      "Requirement already satisfied, skipping upgrade: ruamel.yaml<=0.15.89,>=0.15.35 in /Users/konabuta/miniconda3/envs/myenv/lib/python3.6/site-packages (from azureml-core==1.0.39.*->azureml-sdk[automl,contrib,explain,notebooks]) (0.15.89)\n",
      "Requirement already satisfied, skipping upgrade: jmespath in /Users/konabuta/miniconda3/envs/myenv/lib/python3.6/site-packages (from azureml-core==1.0.39.*->azureml-sdk[automl,contrib,explain,notebooks]) (0.9.4)\n",
      "Requirement already satisfied, skipping upgrade: urllib3>=1.23 in /Users/konabuta/miniconda3/envs/myenv/lib/python3.6/site-packages (from azureml-core==1.0.39.*->azureml-sdk[automl,contrib,explain,notebooks]) (1.25.2)\n",
      "Requirement already satisfied, skipping upgrade: requests>=2.19.1 in /Users/konabuta/miniconda3/envs/myenv/lib/python3.6/site-packages (from azureml-core==1.0.39.*->azureml-sdk[automl,contrib,explain,notebooks]) (2.21.0)\n",
      "Requirement already satisfied, skipping upgrade: azure-mgmt-keyvault>=0.40.0 in /Users/konabuta/miniconda3/envs/myenv/lib/python3.6/site-packages (from azureml-core==1.0.39.*->azureml-sdk[automl,contrib,explain,notebooks]) (1.1.0)\n",
      "Requirement already satisfied, skipping upgrade: ndg-httpsclient in /Users/konabuta/miniconda3/envs/myenv/lib/python3.6/site-packages (from azureml-core==1.0.39.*->azureml-sdk[automl,contrib,explain,notebooks]) (0.5.1)\n",
      "Requirement already satisfied, skipping upgrade: backports.tempfile in /Users/konabuta/miniconda3/envs/myenv/lib/python3.6/site-packages (from azureml-core==1.0.39.*->azureml-sdk[automl,contrib,explain,notebooks]) (1.0)\n",
      "Requirement already satisfied, skipping upgrade: PyJWT in /Users/konabuta/miniconda3/envs/myenv/lib/python3.6/site-packages (from azureml-core==1.0.39.*->azureml-sdk[automl,contrib,explain,notebooks]) (1.7.1)\n",
      "Requirement already satisfied, skipping upgrade: azure-mgmt-containerregistry>=2.0.0 in /Users/konabuta/miniconda3/envs/myenv/lib/python3.6/site-packages (from azureml-core==1.0.39.*->azureml-sdk[automl,contrib,explain,notebooks]) (2.8.0)\n",
      "Requirement already satisfied, skipping upgrade: azureml-train-core==1.0.39.* in /Users/konabuta/miniconda3/envs/myenv/lib/python3.6/site-packages (from azureml-train==1.0.39.*->azureml-sdk[automl,contrib,explain,notebooks]) (1.0.39)\n"
     ]
    },
    {
     "name": "stdout",
     "output_type": "stream",
     "text": [
      "Requirement already satisfied, skipping upgrade: azureml-pipeline-core==1.0.39.* in /Users/konabuta/miniconda3/envs/myenv/lib/python3.6/site-packages (from azureml-pipeline==1.0.39.*->azureml-sdk[automl,contrib,explain,notebooks]) (1.0.39)\n",
      "Requirement already satisfied, skipping upgrade: azureml-pipeline-steps==1.0.39.* in /Users/konabuta/miniconda3/envs/myenv/lib/python3.6/site-packages (from azureml-pipeline==1.0.39.*->azureml-sdk[automl,contrib,explain,notebooks]) (1.0.39)\n",
      "Requirement already satisfied, skipping upgrade: wheel==0.30.0 in /Users/konabuta/miniconda3/envs/myenv/lib/python3.6/site-packages (from azureml-train-automl==1.0.39.*; extra == \"automl\"->azureml-sdk[automl,contrib,explain,notebooks]) (0.30.0)\n",
      "Requirement already satisfied, skipping upgrade: dill>=0.2.8 in /Users/konabuta/miniconda3/envs/myenv/lib/python3.6/site-packages (from azureml-train-automl==1.0.39.*; extra == \"automl\"->azureml-sdk[automl,contrib,explain,notebooks]) (0.2.9)\n",
      "Requirement already satisfied, skipping upgrade: numpy<=1.16.2,>=1.11.0 in /Users/konabuta/miniconda3/envs/myenv/lib/python3.6/site-packages (from azureml-train-automl==1.0.39.*; extra == \"automl\"->azureml-sdk[automl,contrib,explain,notebooks]) (1.16.2)\n",
      "Requirement already satisfied, skipping upgrade: skl2onnx==1.4.7; python_version < \"3.7\" in /Users/konabuta/miniconda3/envs/myenv/lib/python3.6/site-packages (from azureml-train-automl==1.0.39.*; extra == \"automl\"->azureml-sdk[automl,contrib,explain,notebooks]) (1.4.7)\n",
      "Requirement already satisfied, skipping upgrade: patsy>=0.5.1 in /Users/konabuta/miniconda3/envs/myenv/lib/python3.6/site-packages (from azureml-train-automl==1.0.39.*; extra == \"automl\"->azureml-sdk[automl,contrib,explain,notebooks]) (0.5.1)\n",
      "Requirement already satisfied, skipping upgrade: azureml-telemetry==1.0.39.* in /Users/konabuta/miniconda3/envs/myenv/lib/python3.6/site-packages (from azureml-train-automl==1.0.39.*; extra == \"automl\"->azureml-sdk[automl,contrib,explain,notebooks]) (1.0.39)\n",
      "Requirement already satisfied, skipping upgrade: gensim in /Users/konabuta/miniconda3/envs/myenv/lib/python3.6/site-packages (from azureml-train-automl==1.0.39.*; extra == \"automl\"->azureml-sdk[automl,contrib,explain,notebooks]) (3.7.3)\n",
      "Requirement already satisfied, skipping upgrade: statsmodels>=0.9.0 in /Users/konabuta/miniconda3/envs/myenv/lib/python3.6/site-packages (from azureml-train-automl==1.0.39.*; extra == \"automl\"->azureml-sdk[automl,contrib,explain,notebooks]) (0.9.0)\n",
      "Requirement already satisfied, skipping upgrade: scikit-learn<=0.20.3,>=0.19.0 in /Users/konabuta/miniconda3/envs/myenv/lib/python3.6/site-packages (from azureml-train-automl==1.0.39.*; extra == \"automl\"->azureml-sdk[automl,contrib,explain,notebooks]) (0.20.3)\n",
      "Requirement already satisfied, skipping upgrade: azureml-automl-core==1.0.39.* in /Users/konabuta/miniconda3/envs/myenv/lib/python3.6/site-packages (from azureml-train-automl==1.0.39.*; extra == \"automl\"->azureml-sdk[automl,contrib,explain,notebooks]) (1.0.39.1)\n",
      "Requirement already satisfied, skipping upgrade: sklearn-pandas<=1.7.0,>=1.4.0 in /Users/konabuta/miniconda3/envs/myenv/lib/python3.6/site-packages (from azureml-train-automl==1.0.39.*; extra == \"automl\"->azureml-sdk[automl,contrib,explain,notebooks]) (1.7.0)\n",
      "Requirement already satisfied, skipping upgrade: pandas<=0.23.4,>=0.21.0 in /Users/konabuta/miniconda3/envs/myenv/lib/python3.6/site-packages (from azureml-train-automl==1.0.39.*; extra == \"automl\"->azureml-sdk[automl,contrib,explain,notebooks]) (0.23.4)\n",
      "Requirement already satisfied, skipping upgrade: nimbusml==0.6.5; python_version < \"3.7\" in /Users/konabuta/miniconda3/envs/myenv/lib/python3.6/site-packages (from azureml-train-automl==1.0.39.*; extra == \"automl\"->azureml-sdk[automl,contrib,explain,notebooks]) (0.6.5)\n",
      "Requirement already satisfied, skipping upgrade: lightgbm<=2.2.1,>=2.0.11 in /Users/konabuta/miniconda3/envs/myenv/lib/python3.6/site-packages (from azureml-train-automl==1.0.39.*; extra == \"automl\"->azureml-sdk[automl,contrib,explain,notebooks]) (2.2.1)\n",
      "Requirement already satisfied, skipping upgrade: onnxmltools==1.4.0; python_version < \"3.7\" in /Users/konabuta/miniconda3/envs/myenv/lib/python3.6/site-packages (from azureml-train-automl==1.0.39.*; extra == \"automl\"->azureml-sdk[automl,contrib,explain,notebooks]) (1.4.0)\n",
      "Requirement already satisfied, skipping upgrade: resource>=0.1.8 in /Users/konabuta/miniconda3/envs/myenv/lib/python3.6/site-packages (from azureml-train-automl==1.0.39.*; extra == \"automl\"->azureml-sdk[automl,contrib,explain,notebooks]) (0.2.1)\n",
      "Requirement already satisfied, skipping upgrade: scipy<=1.1.0,>=1.0.0 in /Users/konabuta/miniconda3/envs/myenv/lib/python3.6/site-packages (from azureml-train-automl==1.0.39.*; extra == \"automl\"->azureml-sdk[automl,contrib,explain,notebooks]) (1.1.0)\n",
      "Requirement already satisfied, skipping upgrade: Flask<2.0,>=1.0 in /Users/konabuta/miniconda3/envs/myenv/lib/python3.6/site-packages (from azureml-contrib-services==1.0.39.*; extra == \"contrib\"->azureml-sdk[automl,contrib,explain,notebooks]) (1.0.2)\n",
      "Requirement already satisfied, skipping upgrade: ipython in /Users/konabuta/.local/lib/python3.6/site-packages (from azureml-contrib-notebook==1.0.39.*; extra == \"contrib\"->azureml-sdk[automl,contrib,explain,notebooks]) (7.3.0)\n",
      "Requirement already satisfied, skipping upgrade: shap<=0.28.5,>=0.20.0 in /Users/konabuta/miniconda3/envs/myenv/lib/python3.6/site-packages (from azureml-explain-model==1.0.39.*; extra == \"explain\"->azureml-sdk[automl,contrib,explain,notebooks]) (0.28.5)\n",
      "Requirement already satisfied, skipping upgrade: ipywidgets>=7.0.0 in /Users/konabuta/miniconda3/envs/myenv/lib/python3.6/site-packages (from azureml-widgets==1.0.39.*; extra == \"notebooks\"->azureml-sdk[automl,contrib,explain,notebooks]) (7.4.2)\n",
      "Requirement already satisfied, skipping upgrade: distro>=1.2.0 in /Users/konabuta/miniconda3/envs/myenv/lib/python3.6/site-packages (from dotnetcore2==2.1.8->azureml-dataprep) (1.4.0)\n",
      "Requirement already satisfied, skipping upgrade: isodate>=0.6.0 in /Users/konabuta/miniconda3/envs/myenv/lib/python3.6/site-packages (from msrest>=0.5.1->azureml-core==1.0.39.*->azureml-sdk[automl,contrib,explain,notebooks]) (0.6.0)\n",
      "Requirement already satisfied, skipping upgrade: certifi>=2017.4.17 in /Users/konabuta/miniconda3/envs/myenv/lib/python3.6/site-packages (from msrest>=0.5.1->azureml-core==1.0.39.*->azureml-sdk[automl,contrib,explain,notebooks]) (2019.3.9)\n",
      "Requirement already satisfied, skipping upgrade: requests-oauthlib>=0.5.0 in /Users/konabuta/miniconda3/envs/myenv/lib/python3.6/site-packages (from msrest>=0.5.1->azureml-core==1.0.39.*->azureml-sdk[automl,contrib,explain,notebooks]) (1.2.0)\n",
      "Requirement already satisfied, skipping upgrade: websocket-client>=0.32.0 in /Users/konabuta/miniconda3/envs/myenv/lib/python3.6/site-packages (from docker->azureml-core==1.0.39.*->azureml-sdk[automl,contrib,explain,notebooks]) (0.56.0)\n",
      "Requirement already satisfied, skipping upgrade: docker-pycreds>=0.4.0 in /Users/konabuta/miniconda3/envs/myenv/lib/python3.6/site-packages (from docker->azureml-core==1.0.39.*->azureml-sdk[automl,contrib,explain,notebooks]) (0.4.0)\n",
      "Requirement already satisfied, skipping upgrade: asn1crypto>=0.21.0 in /Users/konabuta/miniconda3/envs/myenv/lib/python3.6/site-packages (from cryptography!=1.9,!=2.0.*,!=2.1.*,!=2.2.*->azureml-core==1.0.39.*->azureml-sdk[automl,contrib,explain,notebooks]) (0.24.0)\n",
      "Requirement already satisfied, skipping upgrade: cffi!=1.11.3,>=1.8 in /Users/konabuta/miniconda3/envs/myenv/lib/python3.6/site-packages (from cryptography!=1.9,!=2.0.*,!=2.1.*,!=2.2.*->azureml-core==1.0.39.*->azureml-sdk[automl,contrib,explain,notebooks]) (1.12.3)\n",
      "Requirement already satisfied, skipping upgrade: pyasn1>=0.1.7 in /Users/konabuta/miniconda3/envs/myenv/lib/python3.6/site-packages (from paramiko>=2.0.8->azureml-core==1.0.39.*->azureml-sdk[automl,contrib,explain,notebooks]) (0.4.5)\n",
      "Requirement already satisfied, skipping upgrade: pynacl>=1.0.1 in /Users/konabuta/miniconda3/envs/myenv/lib/python3.6/site-packages (from paramiko>=2.0.8->azureml-core==1.0.39.*->azureml-sdk[automl,contrib,explain,notebooks]) (1.3.0)\n",
      "Requirement already satisfied, skipping upgrade: bcrypt>=3.1.3 in /Users/konabuta/miniconda3/envs/myenv/lib/python3.6/site-packages (from paramiko>=2.0.8->azureml-core==1.0.39.*->azureml-sdk[automl,contrib,explain,notebooks]) (3.1.6)\n",
      "Requirement already satisfied, skipping upgrade: jeepney in /Users/konabuta/miniconda3/envs/myenv/lib/python3.6/site-packages (from SecretStorage->azureml-core==1.0.39.*->azureml-sdk[automl,contrib,explain,notebooks]) (0.4)\n",
      "Requirement already satisfied, skipping upgrade: chardet<3.1.0,>=3.0.2 in /Users/konabuta/miniconda3/envs/myenv/lib/python3.6/site-packages (from requests>=2.19.1->azureml-core==1.0.39.*->azureml-sdk[automl,contrib,explain,notebooks]) (3.0.4)\n",
      "Requirement already satisfied, skipping upgrade: idna<2.9,>=2.5 in /Users/konabuta/miniconda3/envs/myenv/lib/python3.6/site-packages (from requests>=2.19.1->azureml-core==1.0.39.*->azureml-sdk[automl,contrib,explain,notebooks]) (2.8)\n",
      "Requirement already satisfied, skipping upgrade: azure-mgmt-nspkg>=2.0.0 in /Users/konabuta/miniconda3/envs/myenv/lib/python3.6/site-packages (from azure-mgmt-keyvault>=0.40.0->azureml-core==1.0.39.*->azureml-sdk[automl,contrib,explain,notebooks]) (3.0.2)\n",
      "Requirement already satisfied, skipping upgrade: backports.weakref in /Users/konabuta/miniconda3/envs/myenv/lib/python3.6/site-packages (from backports.tempfile->azureml-core==1.0.39.*->azureml-sdk[automl,contrib,explain,notebooks]) (1.0.post1)\n",
      "Requirement already satisfied, skipping upgrade: azureml-train-restclients-hyperdrive==1.0.39.* in /Users/konabuta/miniconda3/envs/myenv/lib/python3.6/site-packages (from azureml-train-core==1.0.39.*->azureml-train==1.0.39.*->azureml-sdk[automl,contrib,explain,notebooks]) (1.0.39)\n",
      "Requirement already satisfied, skipping upgrade: onnxconverter-common>=1.4.0 in /Users/konabuta/miniconda3/envs/myenv/lib/python3.6/site-packages (from skl2onnx==1.4.7; python_version < \"3.7\"->azureml-train-automl==1.0.39.*; extra == \"automl\"->azureml-sdk[automl,contrib,explain,notebooks]) (1.4.2)\n",
      "Requirement already satisfied, skipping upgrade: protobuf in /Users/konabuta/miniconda3/envs/myenv/lib/python3.6/site-packages (from skl2onnx==1.4.7; python_version < \"3.7\"->azureml-train-automl==1.0.39.*; extra == \"automl\"->azureml-sdk[automl,contrib,explain,notebooks]) (3.7.1)\n",
      "Requirement already satisfied, skipping upgrade: onnx in /Users/konabuta/miniconda3/envs/myenv/lib/python3.6/site-packages (from skl2onnx==1.4.7; python_version < \"3.7\"->azureml-train-automl==1.0.39.*; extra == \"automl\"->azureml-sdk[automl,contrib,explain,notebooks]) (1.5.0)\n"
     ]
    },
    {
     "name": "stdout",
     "output_type": "stream",
     "text": [
      "Requirement already satisfied, skipping upgrade: applicationinsights in /Users/konabuta/miniconda3/envs/myenv/lib/python3.6/site-packages (from azureml-telemetry==1.0.39.*->azureml-train-automl==1.0.39.*; extra == \"automl\"->azureml-sdk[automl,contrib,explain,notebooks]) (0.11.9)\n",
      "Requirement already satisfied, skipping upgrade: smart-open>=1.7.0 in /Users/konabuta/miniconda3/envs/myenv/lib/python3.6/site-packages (from gensim->azureml-train-automl==1.0.39.*; extra == \"automl\"->azureml-sdk[automl,contrib,explain,notebooks]) (1.8.3)\n",
      "Requirement already satisfied, skipping upgrade: keras2onnx in /Users/konabuta/miniconda3/envs/myenv/lib/python3.6/site-packages (from onnxmltools==1.4.0; python_version < \"3.7\"->azureml-train-automl==1.0.39.*; extra == \"automl\"->azureml-sdk[automl,contrib,explain,notebooks]) (1.4.0)\n",
      "Requirement already satisfied, skipping upgrade: JsonForm>=0.0.2 in /Users/konabuta/miniconda3/envs/myenv/lib/python3.6/site-packages (from resource>=0.1.8->azureml-train-automl==1.0.39.*; extra == \"automl\"->azureml-sdk[automl,contrib,explain,notebooks]) (0.0.2)\n",
      "Requirement already satisfied, skipping upgrade: python-easyconfig>=0.1.0 in /Users/konabuta/miniconda3/envs/myenv/lib/python3.6/site-packages (from resource>=0.1.8->azureml-train-automl==1.0.39.*; extra == \"automl\"->azureml-sdk[automl,contrib,explain,notebooks]) (0.1.7)\n",
      "Requirement already satisfied, skipping upgrade: JsonSir>=0.0.2 in /Users/konabuta/miniconda3/envs/myenv/lib/python3.6/site-packages (from resource>=0.1.8->azureml-train-automl==1.0.39.*; extra == \"automl\"->azureml-sdk[automl,contrib,explain,notebooks]) (0.0.2)\n",
      "Requirement already satisfied, skipping upgrade: itsdangerous>=0.24 in /Users/konabuta/miniconda3/envs/myenv/lib/python3.6/site-packages (from Flask<2.0,>=1.0->azureml-contrib-services==1.0.39.*; extra == \"contrib\"->azureml-sdk[automl,contrib,explain,notebooks]) (1.1.0)\n",
      "Requirement already satisfied, skipping upgrade: click>=5.1 in /Users/konabuta/miniconda3/envs/myenv/lib/python3.6/site-packages (from Flask<2.0,>=1.0->azureml-contrib-services==1.0.39.*; extra == \"contrib\"->azureml-sdk[automl,contrib,explain,notebooks]) (7.0)\n",
      "Requirement already satisfied, skipping upgrade: Werkzeug>=0.14 in /Users/konabuta/miniconda3/envs/myenv/lib/python3.6/site-packages (from Flask<2.0,>=1.0->azureml-contrib-services==1.0.39.*; extra == \"contrib\"->azureml-sdk[automl,contrib,explain,notebooks]) (0.15.4)\n",
      "Requirement already satisfied, skipping upgrade: Jinja2>=2.10 in /Users/konabuta/.local/lib/python3.6/site-packages (from Flask<2.0,>=1.0->azureml-contrib-services==1.0.39.*; extra == \"contrib\"->azureml-sdk[automl,contrib,explain,notebooks]) (2.10)\n",
      "Requirement already satisfied, skipping upgrade: setuptools>=18.5 in /Users/konabuta/miniconda3/envs/myenv/lib/python3.6/site-packages (from ipython->azureml-contrib-notebook==1.0.39.*; extra == \"contrib\"->azureml-sdk[automl,contrib,explain,notebooks]) (41.0.1)\n",
      "Requirement already satisfied, skipping upgrade: appnope; sys_platform == \"darwin\" in /Users/konabuta/.local/lib/python3.6/site-packages (from ipython->azureml-contrib-notebook==1.0.39.*; extra == \"contrib\"->azureml-sdk[automl,contrib,explain,notebooks]) (0.1.0)\n",
      "Requirement already satisfied, skipping upgrade: pickleshare in /Users/konabuta/.local/lib/python3.6/site-packages (from ipython->azureml-contrib-notebook==1.0.39.*; extra == \"contrib\"->azureml-sdk[automl,contrib,explain,notebooks]) (0.7.5)\n",
      "Requirement already satisfied, skipping upgrade: backcall in /Users/konabuta/.local/lib/python3.6/site-packages (from ipython->azureml-contrib-notebook==1.0.39.*; extra == \"contrib\"->azureml-sdk[automl,contrib,explain,notebooks]) (0.1.0)\n",
      "Requirement already satisfied, skipping upgrade: pygments in /Users/konabuta/.local/lib/python3.6/site-packages (from ipython->azureml-contrib-notebook==1.0.39.*; extra == \"contrib\"->azureml-sdk[automl,contrib,explain,notebooks]) (2.3.1)\n",
      "Requirement already satisfied, skipping upgrade: prompt-toolkit<2.1.0,>=2.0.0 in /Users/konabuta/.local/lib/python3.6/site-packages (from ipython->azureml-contrib-notebook==1.0.39.*; extra == \"contrib\"->azureml-sdk[automl,contrib,explain,notebooks]) (2.0.9)\n",
      "Requirement already satisfied, skipping upgrade: pexpect; sys_platform != \"win32\" in /Users/konabuta/.local/lib/python3.6/site-packages (from ipython->azureml-contrib-notebook==1.0.39.*; extra == \"contrib\"->azureml-sdk[automl,contrib,explain,notebooks]) (4.6.0)\n",
      "Requirement already satisfied, skipping upgrade: jedi>=0.10 in /Users/konabuta/.local/lib/python3.6/site-packages (from ipython->azureml-contrib-notebook==1.0.39.*; extra == \"contrib\"->azureml-sdk[automl,contrib,explain,notebooks]) (0.13.3)\n",
      "Requirement already satisfied, skipping upgrade: traitlets>=4.2 in /Users/konabuta/.local/lib/python3.6/site-packages (from ipython->azureml-contrib-notebook==1.0.39.*; extra == \"contrib\"->azureml-sdk[automl,contrib,explain,notebooks]) (4.3.2)\n",
      "Requirement already satisfied, skipping upgrade: decorator in /Users/konabuta/miniconda3/envs/myenv/lib/python3.6/site-packages (from ipython->azureml-contrib-notebook==1.0.39.*; extra == \"contrib\"->azureml-sdk[automl,contrib,explain,notebooks]) (4.4.0)\n",
      "Requirement already satisfied, skipping upgrade: scikit-image in /Users/konabuta/miniconda3/envs/myenv/lib/python3.6/site-packages (from shap<=0.28.5,>=0.20.0->azureml-explain-model==1.0.39.*; extra == \"explain\"->azureml-sdk[automl,contrib,explain,notebooks]) (0.15.0)\n",
      "Requirement already satisfied, skipping upgrade: tqdm in /Users/konabuta/miniconda3/envs/myenv/lib/python3.6/site-packages (from shap<=0.28.5,>=0.20.0->azureml-explain-model==1.0.39.*; extra == \"explain\"->azureml-sdk[automl,contrib,explain,notebooks]) (4.32.1)\n",
      "Requirement already satisfied, skipping upgrade: matplotlib in /Users/konabuta/miniconda3/envs/myenv/lib/python3.6/site-packages (from shap<=0.28.5,>=0.20.0->azureml-explain-model==1.0.39.*; extra == \"explain\"->azureml-sdk[automl,contrib,explain,notebooks]) (3.0.3)\n",
      "Requirement already satisfied, skipping upgrade: nbformat>=4.2.0 in /Users/konabuta/.local/lib/python3.6/site-packages (from ipywidgets>=7.0.0->azureml-widgets==1.0.39.*; extra == \"notebooks\"->azureml-sdk[automl,contrib,explain,notebooks]) (4.4.0)\n",
      "Requirement already satisfied, skipping upgrade: widgetsnbextension~=3.4.0 in /Users/konabuta/miniconda3/envs/myenv/lib/python3.6/site-packages (from ipywidgets>=7.0.0->azureml-widgets==1.0.39.*; extra == \"notebooks\"->azureml-sdk[automl,contrib,explain,notebooks]) (3.4.2)\n",
      "Requirement already satisfied, skipping upgrade: ipykernel>=4.5.1 in /Users/konabuta/.local/lib/python3.6/site-packages (from ipywidgets>=7.0.0->azureml-widgets==1.0.39.*; extra == \"notebooks\"->azureml-sdk[automl,contrib,explain,notebooks]) (5.1.0)\n",
      "Requirement already satisfied, skipping upgrade: oauthlib>=3.0.0 in /Users/konabuta/miniconda3/envs/myenv/lib/python3.6/site-packages (from requests-oauthlib>=0.5.0->msrest>=0.5.1->azureml-core==1.0.39.*->azureml-sdk[automl,contrib,explain,notebooks]) (3.0.1)\n",
      "Requirement already satisfied, skipping upgrade: pycparser in /Users/konabuta/miniconda3/envs/myenv/lib/python3.6/site-packages (from cffi!=1.11.3,>=1.8->cryptography!=1.9,!=2.0.*,!=2.1.*,!=2.2.*->azureml-core==1.0.39.*->azureml-sdk[automl,contrib,explain,notebooks]) (2.19)\n",
      "Requirement already satisfied, skipping upgrade: azure-nspkg>=3.0.0 in /Users/konabuta/miniconda3/envs/myenv/lib/python3.6/site-packages (from azure-mgmt-nspkg>=2.0.0->azure-mgmt-keyvault>=0.40.0->azureml-core==1.0.39.*->azureml-sdk[automl,contrib,explain,notebooks]) (3.0.2)\n",
      "Requirement already satisfied, skipping upgrade: typing-extensions>=3.6.2.1 in /Users/konabuta/miniconda3/envs/myenv/lib/python3.6/site-packages (from onnx->skl2onnx==1.4.7; python_version < \"3.7\"->azureml-train-automl==1.0.39.*; extra == \"automl\"->azureml-sdk[automl,contrib,explain,notebooks]) (3.7.2)\n",
      "Requirement already satisfied, skipping upgrade: typing>=3.6.4 in /Users/konabuta/miniconda3/envs/myenv/lib/python3.6/site-packages (from onnx->skl2onnx==1.4.7; python_version < \"3.7\"->azureml-train-automl==1.0.39.*; extra == \"automl\"->azureml-sdk[automl,contrib,explain,notebooks]) (3.6.6)\n",
      "Requirement already satisfied, skipping upgrade: boto3 in /Users/konabuta/miniconda3/envs/myenv/lib/python3.6/site-packages (from smart-open>=1.7.0->gensim->azureml-train-automl==1.0.39.*; extra == \"automl\"->azureml-sdk[automl,contrib,explain,notebooks]) (1.9.148)\n",
      "Requirement already satisfied, skipping upgrade: boto>=2.32 in /Users/konabuta/miniconda3/envs/myenv/lib/python3.6/site-packages (from smart-open>=1.7.0->gensim->azureml-train-automl==1.0.39.*; extra == \"automl\"->azureml-sdk[automl,contrib,explain,notebooks]) (2.49.0)\n",
      "Requirement already satisfied, skipping upgrade: keras in /Users/konabuta/miniconda3/envs/myenv/lib/python3.6/site-packages (from keras2onnx->onnxmltools==1.4.0; python_version < \"3.7\"->azureml-train-automl==1.0.39.*; extra == \"automl\"->azureml-sdk[automl,contrib,explain,notebooks]) (2.2.4)\n"
     ]
    },
    {
     "name": "stdout",
     "output_type": "stream",
     "text": [
      "Requirement already satisfied, skipping upgrade: jsonschema in /Users/konabuta/.local/lib/python3.6/site-packages (from JsonForm>=0.0.2->resource>=0.1.8->azureml-train-automl==1.0.39.*; extra == \"automl\"->azureml-sdk[automl,contrib,explain,notebooks]) (3.0.1)\n",
      "Requirement already satisfied, skipping upgrade: PyYAML in /Users/konabuta/.local/lib/python3.6/site-packages (from python-easyconfig>=0.1.0->resource>=0.1.8->azureml-train-automl==1.0.39.*; extra == \"automl\"->azureml-sdk[automl,contrib,explain,notebooks]) (5.1)\n",
      "Requirement already satisfied, skipping upgrade: MarkupSafe>=0.23 in /Users/konabuta/.local/lib/python3.6/site-packages (from Jinja2>=2.10->Flask<2.0,>=1.0->azureml-contrib-services==1.0.39.*; extra == \"contrib\"->azureml-sdk[automl,contrib,explain,notebooks]) (1.1.1)\n",
      "Requirement already satisfied, skipping upgrade: wcwidth in /Users/konabuta/.local/lib/python3.6/site-packages (from prompt-toolkit<2.1.0,>=2.0.0->ipython->azureml-contrib-notebook==1.0.39.*; extra == \"contrib\"->azureml-sdk[automl,contrib,explain,notebooks]) (0.1.7)\n",
      "Requirement already satisfied, skipping upgrade: ptyprocess>=0.5 in /Users/konabuta/.local/lib/python3.6/site-packages (from pexpect; sys_platform != \"win32\"->ipython->azureml-contrib-notebook==1.0.39.*; extra == \"contrib\"->azureml-sdk[automl,contrib,explain,notebooks]) (0.6.0)\n",
      "Requirement already satisfied, skipping upgrade: parso>=0.3.0 in /Users/konabuta/.local/lib/python3.6/site-packages (from jedi>=0.10->ipython->azureml-contrib-notebook==1.0.39.*; extra == \"contrib\"->azureml-sdk[automl,contrib,explain,notebooks]) (0.3.4)\n",
      "Requirement already satisfied, skipping upgrade: ipython-genutils in /Users/konabuta/.local/lib/python3.6/site-packages (from traitlets>=4.2->ipython->azureml-contrib-notebook==1.0.39.*; extra == \"contrib\"->azureml-sdk[automl,contrib,explain,notebooks]) (0.2.0)\n",
      "Requirement already satisfied, skipping upgrade: imageio>=2.0.1 in /Users/konabuta/miniconda3/envs/myenv/lib/python3.6/site-packages (from scikit-image->shap<=0.28.5,>=0.20.0->azureml-explain-model==1.0.39.*; extra == \"explain\"->azureml-sdk[automl,contrib,explain,notebooks]) (2.5.0)\n",
      "Requirement already satisfied, skipping upgrade: pillow>=4.3.0 in /Users/konabuta/miniconda3/envs/myenv/lib/python3.6/site-packages (from scikit-image->shap<=0.28.5,>=0.20.0->azureml-explain-model==1.0.39.*; extra == \"explain\"->azureml-sdk[automl,contrib,explain,notebooks]) (6.0.0)\n",
      "Requirement already satisfied, skipping upgrade: networkx>=2.0 in /Users/konabuta/miniconda3/envs/myenv/lib/python3.6/site-packages (from scikit-image->shap<=0.28.5,>=0.20.0->azureml-explain-model==1.0.39.*; extra == \"explain\"->azureml-sdk[automl,contrib,explain,notebooks]) (2.3)\n",
      "Requirement already satisfied, skipping upgrade: PyWavelets>=0.4.0 in /Users/konabuta/miniconda3/envs/myenv/lib/python3.6/site-packages (from scikit-image->shap<=0.28.5,>=0.20.0->azureml-explain-model==1.0.39.*; extra == \"explain\"->azureml-sdk[automl,contrib,explain,notebooks]) (1.0.3)\n",
      "Requirement already satisfied, skipping upgrade: kiwisolver>=1.0.1 in /Users/konabuta/miniconda3/envs/myenv/lib/python3.6/site-packages (from matplotlib->shap<=0.28.5,>=0.20.0->azureml-explain-model==1.0.39.*; extra == \"explain\"->azureml-sdk[automl,contrib,explain,notebooks]) (1.1.0)\n",
      "Requirement already satisfied, skipping upgrade: pyparsing!=2.0.4,!=2.1.2,!=2.1.6,>=2.0.1 in /Users/konabuta/miniconda3/envs/myenv/lib/python3.6/site-packages (from matplotlib->shap<=0.28.5,>=0.20.0->azureml-explain-model==1.0.39.*; extra == \"explain\"->azureml-sdk[automl,contrib,explain,notebooks]) (2.4.0)\n",
      "Requirement already satisfied, skipping upgrade: cycler>=0.10 in /Users/konabuta/miniconda3/envs/myenv/lib/python3.6/site-packages (from matplotlib->shap<=0.28.5,>=0.20.0->azureml-explain-model==1.0.39.*; extra == \"explain\"->azureml-sdk[automl,contrib,explain,notebooks]) (0.10.0)\n",
      "Requirement already satisfied, skipping upgrade: jupyter-core in /Users/konabuta/.local/lib/python3.6/site-packages (from nbformat>=4.2.0->ipywidgets>=7.0.0->azureml-widgets==1.0.39.*; extra == \"notebooks\"->azureml-sdk[automl,contrib,explain,notebooks]) (4.4.0)\n",
      "Requirement already satisfied, skipping upgrade: notebook>=4.4.1 in /Users/konabuta/.local/lib/python3.6/site-packages (from widgetsnbextension~=3.4.0->ipywidgets>=7.0.0->azureml-widgets==1.0.39.*; extra == \"notebooks\"->azureml-sdk[automl,contrib,explain,notebooks]) (5.7.6)\n",
      "Requirement already satisfied, skipping upgrade: jupyter-client in /Users/konabuta/.local/lib/python3.6/site-packages (from ipykernel>=4.5.1->ipywidgets>=7.0.0->azureml-widgets==1.0.39.*; extra == \"notebooks\"->azureml-sdk[automl,contrib,explain,notebooks]) (5.2.4)\n",
      "Requirement already satisfied, skipping upgrade: tornado>=4.2 in /Users/konabuta/.local/lib/python3.6/site-packages (from ipykernel>=4.5.1->ipywidgets>=7.0.0->azureml-widgets==1.0.39.*; extra == \"notebooks\"->azureml-sdk[automl,contrib,explain,notebooks]) (6.0.1)\n",
      "Requirement already satisfied, skipping upgrade: s3transfer<0.3.0,>=0.2.0 in /Users/konabuta/miniconda3/envs/myenv/lib/python3.6/site-packages (from boto3->smart-open>=1.7.0->gensim->azureml-train-automl==1.0.39.*; extra == \"automl\"->azureml-sdk[automl,contrib,explain,notebooks]) (0.2.0)\n",
      "Requirement already satisfied, skipping upgrade: botocore<1.13.0,>=1.12.148 in /Users/konabuta/miniconda3/envs/myenv/lib/python3.6/site-packages (from boto3->smart-open>=1.7.0->gensim->azureml-train-automl==1.0.39.*; extra == \"automl\"->azureml-sdk[automl,contrib,explain,notebooks]) (1.12.148)\n",
      "Requirement already satisfied, skipping upgrade: keras-applications>=1.0.6 in /Users/konabuta/miniconda3/envs/myenv/lib/python3.6/site-packages (from keras->keras2onnx->onnxmltools==1.4.0; python_version < \"3.7\"->azureml-train-automl==1.0.39.*; extra == \"automl\"->azureml-sdk[automl,contrib,explain,notebooks]) (1.0.7)\n",
      "Requirement already satisfied, skipping upgrade: keras-preprocessing>=1.0.5 in /Users/konabuta/miniconda3/envs/myenv/lib/python3.6/site-packages (from keras->keras2onnx->onnxmltools==1.4.0; python_version < \"3.7\"->azureml-train-automl==1.0.39.*; extra == \"automl\"->azureml-sdk[automl,contrib,explain,notebooks]) (1.0.9)\n",
      "Requirement already satisfied, skipping upgrade: h5py in /Users/konabuta/miniconda3/envs/myenv/lib/python3.6/site-packages (from keras->keras2onnx->onnxmltools==1.4.0; python_version < \"3.7\"->azureml-train-automl==1.0.39.*; extra == \"automl\"->azureml-sdk[automl,contrib,explain,notebooks]) (2.9.0)\n",
      "Requirement already satisfied, skipping upgrade: attrs>=17.4.0 in /Users/konabuta/.local/lib/python3.6/site-packages (from jsonschema->JsonForm>=0.0.2->resource>=0.1.8->azureml-train-automl==1.0.39.*; extra == \"automl\"->azureml-sdk[automl,contrib,explain,notebooks]) (19.1.0)\n",
      "Requirement already satisfied, skipping upgrade: pyrsistent>=0.14.0 in /Users/konabuta/.local/lib/python3.6/site-packages (from jsonschema->JsonForm>=0.0.2->resource>=0.1.8->azureml-train-automl==1.0.39.*; extra == \"automl\"->azureml-sdk[automl,contrib,explain,notebooks]) (0.14.11)\n",
      "Requirement already satisfied, skipping upgrade: Send2Trash in /Users/konabuta/.local/lib/python3.6/site-packages (from notebook>=4.4.1->widgetsnbextension~=3.4.0->ipywidgets>=7.0.0->azureml-widgets==1.0.39.*; extra == \"notebooks\"->azureml-sdk[automl,contrib,explain,notebooks]) (1.5.0)\n",
      "Requirement already satisfied, skipping upgrade: prometheus-client in /Users/konabuta/.local/lib/python3.6/site-packages (from notebook>=4.4.1->widgetsnbextension~=3.4.0->ipywidgets>=7.0.0->azureml-widgets==1.0.39.*; extra == \"notebooks\"->azureml-sdk[automl,contrib,explain,notebooks]) (0.6.0)\n",
      "Requirement already satisfied, skipping upgrade: terminado>=0.8.1 in /Users/konabuta/.local/lib/python3.6/site-packages (from notebook>=4.4.1->widgetsnbextension~=3.4.0->ipywidgets>=7.0.0->azureml-widgets==1.0.39.*; extra == \"notebooks\"->azureml-sdk[automl,contrib,explain,notebooks]) (0.8.1)\n",
      "Requirement already satisfied, skipping upgrade: nbconvert in /Users/konabuta/.local/lib/python3.6/site-packages (from notebook>=4.4.1->widgetsnbextension~=3.4.0->ipywidgets>=7.0.0->azureml-widgets==1.0.39.*; extra == \"notebooks\"->azureml-sdk[automl,contrib,explain,notebooks]) (5.4.1)\n",
      "Requirement already satisfied, skipping upgrade: pyzmq>=17 in /Users/konabuta/.local/lib/python3.6/site-packages (from notebook>=4.4.1->widgetsnbextension~=3.4.0->ipywidgets>=7.0.0->azureml-widgets==1.0.39.*; extra == \"notebooks\"->azureml-sdk[automl,contrib,explain,notebooks]) (18.0.1)\n",
      "Requirement already satisfied, skipping upgrade: docutils>=0.10 in /Users/konabuta/miniconda3/envs/myenv/lib/python3.6/site-packages (from botocore<1.13.0,>=1.12.148->boto3->smart-open>=1.7.0->gensim->azureml-train-automl==1.0.39.*; extra == \"automl\"->azureml-sdk[automl,contrib,explain,notebooks]) (0.14)\n",
      "Requirement already satisfied, skipping upgrade: testpath in /Users/konabuta/.local/lib/python3.6/site-packages (from nbconvert->notebook>=4.4.1->widgetsnbextension~=3.4.0->ipywidgets>=7.0.0->azureml-widgets==1.0.39.*; extra == \"notebooks\"->azureml-sdk[automl,contrib,explain,notebooks]) (0.4.2)\n",
      "Requirement already satisfied, skipping upgrade: entrypoints>=0.2.2 in /Users/konabuta/.local/lib/python3.6/site-packages (from nbconvert->notebook>=4.4.1->widgetsnbextension~=3.4.0->ipywidgets>=7.0.0->azureml-widgets==1.0.39.*; extra == \"notebooks\"->azureml-sdk[automl,contrib,explain,notebooks]) (0.3)\n",
      "Requirement already satisfied, skipping upgrade: mistune>=0.8.1 in /Users/konabuta/.local/lib/python3.6/site-packages (from nbconvert->notebook>=4.4.1->widgetsnbextension~=3.4.0->ipywidgets>=7.0.0->azureml-widgets==1.0.39.*; extra == \"notebooks\"->azureml-sdk[automl,contrib,explain,notebooks]) (0.8.4)\n",
      "Requirement already satisfied, skipping upgrade: pandocfilters>=1.4.1 in /Users/konabuta/.local/lib/python3.6/site-packages (from nbconvert->notebook>=4.4.1->widgetsnbextension~=3.4.0->ipywidgets>=7.0.0->azureml-widgets==1.0.39.*; extra == \"notebooks\"->azureml-sdk[automl,contrib,explain,notebooks]) (1.4.2)\n",
      "Requirement already satisfied, skipping upgrade: defusedxml in /Users/konabuta/.local/lib/python3.6/site-packages (from nbconvert->notebook>=4.4.1->widgetsnbextension~=3.4.0->ipywidgets>=7.0.0->azureml-widgets==1.0.39.*; extra == \"notebooks\"->azureml-sdk[automl,contrib,explain,notebooks]) (0.5.0)\n",
      "Requirement already satisfied, skipping upgrade: bleach in /Users/konabuta/.local/lib/python3.6/site-packages (from nbconvert->notebook>=4.4.1->widgetsnbextension~=3.4.0->ipywidgets>=7.0.0->azureml-widgets==1.0.39.*; extra == \"notebooks\"->azureml-sdk[automl,contrib,explain,notebooks]) (3.1.0)\n",
      "Requirement already satisfied, skipping upgrade: webencodings in /Users/konabuta/.local/lib/python3.6/site-packages (from bleach->nbconvert->notebook>=4.4.1->widgetsnbextension~=3.4.0->ipywidgets>=7.0.0->azureml-widgets==1.0.39.*; extra == \"notebooks\"->azureml-sdk[automl,contrib,explain,notebooks]) (0.5.1)\n"
     ]
    },
    {
     "name": "stdout",
     "output_type": "stream",
     "text": [
      "Note: you may need to restart the kernel to use updated packages.\n"
     ]
    }
   ],
   "source": [
    "#pip install --upgrade azureml-sdk[notebooks,automl,explain,contrib] azureml-dataprep"
   ]
  },
  {
   "cell_type": "markdown",
   "metadata": {},
   "source": [
    "## クラスター構築"
   ]
  },
  {
   "cell_type": "markdown",
   "metadata": {},
   "source": [
    "注意： 無償のサブスクリプションを使用されている人は、STANDARD_D2_V2 を使用してください"
   ]
  },
  {
   "cell_type": "markdown",
   "metadata": {},
   "source": [
    "## GPUの場合"
   ]
  },
  {
   "cell_type": "code",
   "execution_count": 6,
   "metadata": {},
   "outputs": [
    {
     "name": "stdout",
     "output_type": "stream",
     "text": [
      "Found existing compute target.\n",
      "{'currentNodeCount': 0, 'targetNodeCount': 0, 'nodeStateCounts': {'preparingNodeCount': 0, 'runningNodeCount': 0, 'idleNodeCount': 0, 'unusableNodeCount': 0, 'leavingNodeCount': 0, 'preemptedNodeCount': 0}, 'allocationState': 'Steady', 'allocationStateTransitionTime': '2019-05-09T05:22:10.838000+00:00', 'errors': None, 'creationTime': '2019-05-07T06:54:38.967498+00:00', 'modifiedTime': '2019-05-07T06:55:10.068292+00:00', 'provisioningState': 'Succeeded', 'provisioningStateTransitionTime': None, 'scaleSettings': {'minNodeCount': 0, 'maxNodeCount': 2, 'nodeIdleTimeBeforeScaleDown': 'PT120S'}, 'vmPriority': 'LowPriority', 'vmSize': 'STANDARD_NC6'}\n"
     ]
    }
   ],
   "source": [
    "from azureml.core.compute import ComputeTarget, AmlCompute\n",
    "from azureml.core.compute_target import ComputeTargetException\n",
    "\n",
    "# クラスター名の指定\n",
    "cluster_name = \"gpucluster\"\n",
    "\n",
    "try:\n",
    "    compute_target = ComputeTarget(workspace=ws, name=cluster_name)\n",
    "    print('Found existing compute target.')\n",
    "except ComputeTargetException:\n",
    "    print('Creating a new compute target...')\n",
    "    compute_config = AmlCompute.provisioning_configuration(vm_size=\"Standard_NC6\", ## GPU/CPUインスタンスの種類 \n",
    "                                                       min_nodes=0, # 最小ノード数\n",
    "                                                       max_nodes=2, # 最大ノード数\n",
    "                                                       vm_priority='lowpriority') ## lowpriority = 低優先 | dedicated = 専用\n",
    "\n",
    "    # create the cluster\n",
    "    compute_target = ComputeTarget.create(ws, cluster_name, compute_config)\n",
    "\n",
    "    compute_target.wait_for_completion(show_output=True)\n",
    "\n",
    "# Use the 'status' property to get a detailed status for the current cluster. \n",
    "print(compute_target.status.serialize())"
   ]
  },
  {
   "cell_type": "markdown",
   "metadata": {},
   "source": [
    "## CPUの場合"
   ]
  },
  {
   "cell_type": "code",
   "execution_count": 7,
   "metadata": {},
   "outputs": [
    {
     "name": "stdout",
     "output_type": "stream",
     "text": [
      "Found existing compute target.\n",
      "{'currentNodeCount': 0, 'targetNodeCount': 0, 'nodeStateCounts': {'preparingNodeCount': 0, 'runningNodeCount': 0, 'idleNodeCount': 0, 'unusableNodeCount': 0, 'leavingNodeCount': 0, 'preemptedNodeCount': 0}, 'allocationState': 'Steady', 'allocationStateTransitionTime': '2019-05-15T10:41:19.343000+00:00', 'errors': None, 'creationTime': '2019-05-07T12:11:07.024365+00:00', 'modifiedTime': '2019-05-07T12:11:23.505261+00:00', 'provisioningState': 'Succeeded', 'provisioningStateTransitionTime': None, 'scaleSettings': {'minNodeCount': 0, 'maxNodeCount': 2, 'nodeIdleTimeBeforeScaleDown': 'PT300S'}, 'vmPriority': 'LowPriority', 'vmSize': 'STANDARD_DS2_V2'}\n"
     ]
    }
   ],
   "source": [
    "from azureml.core.compute import ComputeTarget, AmlCompute\n",
    "from azureml.core.compute_target import ComputeTargetException\n",
    "\n",
    "# クラスター名の指定\n",
    "cluster_name = \"cpucluster\"\n",
    "\n",
    "try:\n",
    "    compute_target = ComputeTarget(workspace=ws, name=cluster_name)\n",
    "    print('Found existing compute target.')\n",
    "except ComputeTargetException:\n",
    "    print('Creating a new compute target...')\n",
    "    compute_config = AmlCompute.provisioning_configuration(vm_size=\"STANDARD_D3_V2\", ## GPU/CPUインスタンスの種類 \n",
    "                                                       min_nodes=0, # 最小ノード数\n",
    "                                                       max_nodes=2, # 最大ノード数\n",
    "                                                       vm_priority='lowpriority') ## lowpriority = 低優先 | dedicated = 専用\n",
    "\n",
    "    # create the cluster\n",
    "    compute_target = ComputeTarget.create(ws, cluster_name, compute_config)\n",
    "\n",
    "    compute_target.wait_for_completion(show_output=True)\n",
    "\n",
    "# Use the 'status' property to get a detailed status for the current cluster. \n",
    "print(compute_target.status.serialize())"
   ]
  },
  {
   "cell_type": "code",
   "execution_count": null,
   "metadata": {},
   "outputs": [],
   "source": []
  },
  {
   "cell_type": "code",
   "execution_count": null,
   "metadata": {},
   "outputs": [],
   "source": []
  }
 ],
 "metadata": {
  "kernelspec": {
   "display_name": "Python 3",
   "language": "python",
   "name": "python3"
  },
  "language_info": {
   "codemirror_mode": {
    "name": "ipython",
    "version": 3
   },
   "file_extension": ".py",
   "mimetype": "text/x-python",
   "name": "python",
   "nbconvert_exporter": "python",
   "pygments_lexer": "ipython3",
   "version": "3.6.8"
  }
 },
 "nbformat": 4,
 "nbformat_minor": 2
}
